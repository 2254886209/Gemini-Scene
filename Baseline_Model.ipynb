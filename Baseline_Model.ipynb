{
  "nbformat": 4,
  "nbformat_minor": 0,
  "metadata": {
    "colab": {
      "provenance": [],
      "collapsed_sections": [
        "8ytik24zgj1M"
      ],
      "gpuType": "T4"
    },
    "kernelspec": {
      "name": "python3",
      "display_name": "Python 3"
    },
    "language_info": {
      "name": "python"
    },
    "accelerator": "GPU"
  },
  "cells": [
    {
      "cell_type": "code",
      "execution_count": null,
      "metadata": {
        "id": "GJFuJM55hZK_"
      },
      "outputs": [],
      "source": []
    },
    {
      "cell_type": "markdown",
      "source": [
        "## 下载解压图片"
      ],
      "metadata": {
        "id": "t8zs7NCBiGvL"
      }
    },
    {
      "cell_type": "code",
      "source": [],
      "metadata": {
        "id": "2N_X70Z0p996"
      },
      "execution_count": null,
      "outputs": []
    },
    {
      "cell_type": "code",
      "source": [
        "from google.colab import drive\n",
        "drive.mount('/content/drive')"
      ],
      "metadata": {
        "id": "D6RGCx1JzTQk",
        "colab": {
          "base_uri": "https://localhost:8080/"
        },
        "outputId": "f26f13e6-1158-4b44-dd4f-6d4d4b206d2d"
      },
      "execution_count": null,
      "outputs": [
        {
          "output_type": "stream",
          "name": "stdout",
          "text": [
            "Mounted at /content/drive\n"
          ]
        }
      ]
    },
    {
      "cell_type": "code",
      "execution_count": null,
      "metadata": {
        "id": "fJuQiuwWFLx2",
        "colab": {
          "base_uri": "https://localhost:8080/"
        },
        "outputId": "b0c829c5-6518-49e4-b5a4-f9c73dcf6afe"
      },
      "outputs": [
        {
          "output_type": "stream",
          "name": "stdout",
          "text": [
            "cp: cannot stat '/content/drive/MyDrive/24stu/肝败下风/*': No such file or directory\n"
          ]
        }
      ],
      "source": [
        "!cp /content/drive/MyDrive/24stu/肝败下风/* ./"
      ]
    },
    {
      "cell_type": "code",
      "source": [
        "!unrar x /content/新建文件夹.rar"
      ],
      "metadata": {
        "id": "hXAhIeRbFr1K",
        "colab": {
          "base_uri": "https://localhost:8080/"
        },
        "outputId": "985569d4-5e51-478c-944c-745de2c88526"
      },
      "execution_count": null,
      "outputs": [
        {
          "output_type": "stream",
          "name": "stdout",
          "text": [
            "\n",
            "UNRAR 6.11 beta 1 freeware      Copyright (c) 1993-2022 Alexander Roshal\n",
            "\n",
            "\n",
            "Extracting from /content/新建文件夹.rar\n",
            "\n",
            "Creating    新建文件夹                                                     OK\n",
            "Extracting  新建文件夹/1.jpeg                                                 \b\b\b\b  0%\b\b\b\b\b  OK \n",
            "Extracting  新建文件夹/10.jpg                                                 \b\b\b\b  0%\b\b\b\b\b  OK \n",
            "Extracting  新建文件夹/100.jpg                                                \b\b\b\b  0%\b\b\b\b\b  OK \n",
            "Extracting  新建文件夹/101.jpg                                                \b\b\b\b  1%\b\b\b\b\b  OK \n",
            "Extracting  新建文件夹/102.jpg                                                \b\b\b\b  1%\b\b\b\b\b  OK \n",
            "Extracting  新建文件夹/103.jpg                                                \b\b\b\b  1%\b\b\b\b\b  OK \n",
            "Extracting  新建文件夹/104.jpg                                                \b\b\b\b  1%\b\b\b\b\b  OK \n",
            "Extracting  新建文件夹/105.jpg                                                \b\b\b\b  1%\b\b\b\b\b  OK \n",
            "Extracting  新建文件夹/106.jpg                                                \b\b\b\b  1%\b\b\b\b\b  OK \n",
            "Extracting  新建文件夹/107.jpg                                                \b\b\b\b  1%\b\b\b\b\b  OK \n",
            "Extracting  新建文件夹/108.jpg                                                \b\b\b\b  2%\b\b\b\b\b  OK \n",
            "Extracting  新建文件夹/109.jpg                                                \b\b\b\b  2%\b\b\b\b\b  OK \n",
            "Extracting  新建文件夹/11.jpg                                                 \b\b\b\b  2%\b\b\b\b\b  OK \n",
            "Extracting  新建文件夹/110.jpg                                                \b\b\b\b  2%\b\b\b\b\b  OK \n",
            "Extracting  新建文件夹/111.jpg                                                \b\b\b\b  2%\b\b\b\b\b  OK \n",
            "Extracting  新建文件夹/112.jpg                                                \b\b\b\b  2%\b\b\b\b\b  OK \n",
            "Extracting  新建文件夹/113.jpg                                                \b\b\b\b  2%\b\b\b\b\b  OK \n",
            "Extracting  新建文件夹/114.jpg                                                \b\b\b\b  2%\b\b\b\b\b  OK \n",
            "Extracting  新建文件夹/115.jpg                                                \b\b\b\b  3%\b\b\b\b\b  OK \n",
            "Extracting  新建文件夹/116.jpg                                                \b\b\b\b  3%\b\b\b\b\b  OK \n",
            "Extracting  新建文件夹/117.jpg                                                \b\b\b\b  3%\b\b\b\b\b  OK \n",
            "Extracting  新建文件夹/118.jpg                                                \b\b\b\b  3%\b\b\b\b\b  OK \n",
            "Extracting  新建文件夹/119.jpg                                                \b\b\b\b  3%\b\b\b\b\b  OK \n",
            "Extracting  新建文件夹/12.jpg                                                 \b\b\b\b  3%\b\b\b\b\b  OK \n",
            "Extracting  新建文件夹/120.jpg                                                \b\b\b\b  3%\b\b\b\b\b  OK \n",
            "Extracting  新建文件夹/121.jpg                                                \b\b\b\b  3%\b\b\b\b\b  OK \n",
            "Extracting  新建文件夹/122.jpg                                                \b\b\b\b  3%\b\b\b\b\b  OK \n",
            "Extracting  新建文件夹/123.jpg                                                \b\b\b\b  4%\b\b\b\b\b  OK \n",
            "Extracting  新建文件夹/124.jpg                                                \b\b\b\b  4%\b\b\b\b\b  OK \n",
            "Extracting  新建文件夹/125.jpg                                                \b\b\b\b  4%\b\b\b\b\b  OK \n",
            "Extracting  新建文件夹/126.jpg                                                \b\b\b\b  4%\b\b\b\b\b  OK \n",
            "Extracting  新建文件夹/127.jpg                                                \b\b\b\b  5%\b\b\b\b\b  OK \n",
            "Extracting  新建文件夹/128.jpg                                                \b\b\b\b  5%\b\b\b\b\b  OK \n",
            "Extracting  新建文件夹/129.jpg                                                \b\b\b\b  5%\b\b\b\b\b  OK \n",
            "Extracting  新建文件夹/13.jpg                                                 \b\b\b\b  5%\b\b\b\b\b  OK \n",
            "Extracting  新建文件夹/130.jpg                                                \b\b\b\b  5%\b\b\b\b\b  OK \n",
            "Extracting  新建文件夹/131.jpg                                                \b\b\b\b  5%\b\b\b\b\b  OK \n",
            "Extracting  新建文件夹/132.jpg                                                \b\b\b\b  6%\b\b\b\b\b  OK \n",
            "Extracting  新建文件夹/133.jpg                                                \b\b\b\b  6%\b\b\b\b\b  OK \n",
            "Extracting  新建文件夹/134.jpg                                                \b\b\b\b  6%\b\b\b\b\b  OK \n",
            "Extracting  新建文件夹/135.jpg                                                \b\b\b\b  6%\b\b\b\b\b  OK \n",
            "Extracting  新建文件夹/136.jpg                                                \b\b\b\b  6%\b\b\b\b\b  OK \n",
            "Extracting  新建文件夹/137.jpg                                                \b\b\b\b  6%\b\b\b\b\b  OK \n",
            "Extracting  新建文件夹/138.jpg                                                \b\b\b\b  6%\b\b\b\b\b  OK \n",
            "Extracting  新建文件夹/139.jpg                                                \b\b\b\b  6%\b\b\b\b\b  OK \n",
            "Extracting  新建文件夹/14.jpg                                                 \b\b\b\b  6%\b\b\b\b\b  OK \n",
            "Extracting  新建文件夹/140.jpg                                                \b\b\b\b  7%\b\b\b\b\b  OK \n",
            "Extracting  新建文件夹/141.jpg                                                \b\b\b\b  7%\b\b\b\b\b  OK \n",
            "Extracting  新建文件夹/142.jpg                                                \b\b\b\b  7%\b\b\b\b\b  OK \n",
            "Extracting  新建文件夹/143.jpg                                                \b\b\b\b  7%\b\b\b\b\b  OK \n",
            "Extracting  新建文件夹/144.jpg                                                \b\b\b\b  7%\b\b\b\b\b  OK \n",
            "Extracting  新建文件夹/145.jpg                                                \b\b\b\b  7%\b\b\b\b\b  OK \n",
            "Extracting  新建文件夹/146.jpg                                                \b\b\b\b  8%\b\b\b\b\b  OK \n",
            "Extracting  新建文件夹/147.jpg                                                \b\b\b\b  8%\b\b\b\b\b  OK \n",
            "Extracting  新建文件夹/148.jpg                                                \b\b\b\b  8%\b\b\b\b\b  OK \n",
            "Extracting  新建文件夹/149.jpg                                                \b\b\b\b  8%\b\b\b\b\b  OK \n",
            "Extracting  新建文件夹/15.jpg                                                 \b\b\b\b  8%\b\b\b\b\b  OK \n",
            "Extracting  新建文件夹/150.jpg                                                \b\b\b\b  8%\b\b\b\b\b  OK \n",
            "Extracting  新建文件夹/151.jpg                                                \b\b\b\b  8%\b\b\b\b\b  OK \n",
            "Extracting  新建文件夹/152.jpg                                                \b\b\b\b  9%\b\b\b\b\b  OK \n",
            "Extracting  新建文件夹/153.jpg                                                \b\b\b\b  9%\b\b\b\b\b  OK \n",
            "Extracting  新建文件夹/154.jpg                                                \b\b\b\b  9%\b\b\b\b\b  OK \n",
            "Extracting  新建文件夹/155.jpg                                                \b\b\b\b  9%\b\b\b\b\b  OK \n",
            "Extracting  新建文件夹/156.jpg                                                \b\b\b\b  9%\b\b\b\b\b  OK \n",
            "Extracting  新建文件夹/157.jpg                                                \b\b\b\b  9%\b\b\b\b\b  OK \n",
            "Extracting  新建文件夹/158.jpg                                                \b\b\b\b 10%\b\b\b\b\b  OK \n",
            "Extracting  新建文件夹/159.jpg                                                \b\b\b\b 10%\b\b\b\b\b  OK \n",
            "Extracting  新建文件夹/16.jpg                                                 \b\b\b\b 10%\b\b\b\b\b  OK \n",
            "Extracting  新建文件夹/160.jpg                                                \b\b\b\b 10%\b\b\b\b\b  OK \n",
            "Extracting  新建文件夹/161.jpg                                                \b\b\b\b 10%\b\b\b\b\b  OK \n",
            "Extracting  新建文件夹/162.jpg                                                \b\b\b\b 10%\b\b\b\b\b  OK \n",
            "Extracting  新建文件夹/163.jpg                                                \b\b\b\b 11%\b\b\b\b\b  OK \n",
            "Extracting  新建文件夹/164.jpg                                                \b\b\b\b 11%\b\b\b\b\b  OK \n",
            "Extracting  新建文件夹/165.jpg                                                \b\b\b\b 11%\b\b\b\b\b  OK \n",
            "Extracting  新建文件夹/166.jpg                                                \b\b\b\b 11%\b\b\b\b\b  OK \n",
            "Extracting  新建文件夹/167.jpg                                                \b\b\b\b 11%\b\b\b\b\b  OK \n",
            "Extracting  新建文件夹/168.jpg                                                \b\b\b\b 12%\b\b\b\b\b  OK \n",
            "Extracting  新建文件夹/169.jpg                                                \b\b\b\b 12%\b\b\b\b\b  OK \n",
            "Extracting  新建文件夹/17.jpg                                                 \b\b\b\b 12%\b\b\b\b\b  OK \n",
            "Extracting  新建文件夹/170.jpg                                                \b\b\b\b 12%\b\b\b\b\b  OK \n",
            "Extracting  新建文件夹/171.jpg                                                \b\b\b\b 12%\b\b\b\b\b  OK \n",
            "Extracting  新建文件夹/172.jpg                                                \b\b\b\b 13%\b\b\b\b\b  OK \n",
            "Extracting  新建文件夹/173.jpg                                                \b\b\b\b 13%\b\b\b\b\b  OK \n",
            "Extracting  新建文件夹/174.jpg                                                \b\b\b\b 13%\b\b\b\b\b  OK \n",
            "Extracting  新建文件夹/175.jpg                                                \b\b\b\b 13%\b\b\b\b\b  OK \n",
            "Extracting  新建文件夹/176.jpg                                                \b\b\b\b 14%\b\b\b\b\b  OK \n",
            "Extracting  新建文件夹/177.jpg                                                \b\b\b\b 14%\b\b\b\b\b  OK \n",
            "Extracting  新建文件夹/178.jpg                                                \b\b\b\b 14%\b\b\b\b\b  OK \n",
            "Extracting  新建文件夹/179.jpg                                                \b\b\b\b 14%\b\b\b\b\b  OK \n",
            "Extracting  新建文件夹/18.jpg                                                 \b\b\b\b 14%\b\b\b\b\b  OK \n",
            "Extracting  新建文件夹/180.jpg                                                \b\b\b\b 14%\b\b\b\b\b  OK \n",
            "Extracting  新建文件夹/181.jpg                                                \b\b\b\b 15%\b\b\b\b\b  OK \n",
            "Extracting  新建文件夹/182.jpg                                                \b\b\b\b 15%\b\b\b\b\b  OK \n",
            "Extracting  新建文件夹/183.jpg                                                \b\b\b\b 15%\b\b\b\b\b  OK \n",
            "Extracting  新建文件夹/184.jpg                                                \b\b\b\b 15%\b\b\b\b\b  OK \n",
            "Extracting  新建文件夹/185.jpg                                                \b\b\b\b 15%\b\b\b\b\b  OK \n",
            "Extracting  新建文件夹/186.jpg                                                \b\b\b\b 16%\b\b\b\b\b  OK \n",
            "Extracting  新建文件夹/187.jpg                                                \b\b\b\b 16%\b\b\b\b\b  OK \n",
            "Extracting  新建文件夹/188.jpg                                                \b\b\b\b 16%\b\b\b\b\b  OK \n",
            "Extracting  新建文件夹/189.jpg                                                \b\b\b\b 16%\b\b\b\b\b  OK \n",
            "Extracting  新建文件夹/19.jpg                                                 \b\b\b\b 16%\b\b\b\b\b  OK \n",
            "Extracting  新建文件夹/190.jpg                                                \b\b\b\b 17%\b\b\b\b\b  OK \n",
            "Extracting  新建文件夹/191.jpg                                                \b\b\b\b 17%\b\b\b\b\b  OK \n",
            "Extracting  新建文件夹/192.jpg                                                \b\b\b\b 18%\b\b\b\b\b  OK \n",
            "Extracting  新建文件夹/193.jpg                                                \b\b\b\b 18%\b\b\b\b\b  OK \n",
            "Extracting  新建文件夹/194.jpg                                                \b\b\b\b 18%\b\b\b\b\b  OK \n",
            "Extracting  新建文件夹/195.jpg                                                \b\b\b\b 18%\b\b\b\b\b  OK \n",
            "Extracting  新建文件夹/196.jpg                                                \b\b\b\b 18%\b\b\b\b\b  OK \n",
            "Extracting  新建文件夹/197.jpg                                                \b\b\b\b 19%\b\b\b\b\b  OK \n",
            "Extracting  新建文件夹/198.jpg                                                \b\b\b\b 19%\b\b\b\b\b  OK \n",
            "Extracting  新建文件夹/199.jpg                                                \b\b\b\b 19%\b\b\b\b\b  OK \n",
            "Extracting  新建文件夹/2.jpeg                                                 \b\b\b\b 20%\b\b\b\b\b  OK \n",
            "Extracting  新建文件夹/20.jpg                                                 \b\b\b\b 20%\b\b\b\b\b  OK \n",
            "Extracting  新建文件夹/200.jpg                                                \b\b\b\b 20%\b\b\b\b\b  OK \n",
            "Extracting  新建文件夹/21.jpg                                                 \b\b\b\b 20%\b\b\b\b\b  OK \n",
            "Extracting  新建文件夹/22.jpg                                                 \b\b\b\b 20%\b\b\b\b\b  OK \n",
            "Extracting  新建文件夹/23.jpg                                                 \b\b\b\b 20%\b\b\b\b\b  OK \n",
            "Extracting  新建文件夹/24.jpg                                                 \b\b\b\b 21%\b\b\b\b\b  OK \n",
            "Extracting  新建文件夹/25.jpg                                                 \b\b\b\b 21%\b\b\b\b\b  OK \n",
            "Extracting  新建文件夹/26.jpg                                                 \b\b\b\b 21%\b\b\b\b\b  OK \n",
            "Extracting  新建文件夹/27.jpg                                                 \b\b\b\b 21%\b\b\b\b\b  OK \n",
            "Extracting  新建文件夹/28.jpg                                                 \b\b\b\b 21%\b\b\b\b\b  OK \n",
            "Extracting  新建文件夹/29.jpg                                                 \b\b\b\b 21%\b\b\b\b\b  OK \n",
            "Extracting  新建文件夹/3.jpg                                                  \b\b\b\b 40%\b\b\b\b\b  OK \n",
            "Extracting  新建文件夹/30.jpg                                                 \b\b\b\b 40%\b\b\b\b\b  OK \n",
            "Extracting  新建文件夹/31.jpg                                                 \b\b\b\b 40%\b\b\b\b\b  OK \n",
            "Extracting  新建文件夹/32.jpg                                                 \b\b\b\b 41%\b\b\b\b\b  OK \n",
            "Extracting  新建文件夹/33.jpg                                                 \b\b\b\b 41%\b\b\b\b\b  OK \n",
            "Extracting  新建文件夹/34.jpg                                                 \b\b\b\b 41%\b\b\b\b\b  OK \n",
            "Extracting  新建文件夹/35.jpg                                                 \b\b\b\b 41%\b\b\b\b\b  OK \n",
            "Extracting  新建文件夹/36.jpg                                                 \b\b\b\b 41%\b\b\b\b\b  OK \n",
            "Extracting  新建文件夹/37.jpg                                                 \b\b\b\b 41%\b\b\b\b\b  OK \n",
            "Extracting  新建文件夹/38.jpg                                                 \b\b\b\b 41%\b\b\b\b\b  OK \n",
            "Extracting  新建文件夹/39.jpg                                                 \b\b\b\b 42%\b\b\b\b\b  OK \n",
            "Extracting  新建文件夹/4.jpg                                                  \b\b\b\b 55%\b\b\b\b 58%\b\b\b\b\b  OK \n",
            "Extracting  新建文件夹/40.jpg                                                 \b\b\b\b 58%\b\b\b\b\b  OK \n",
            "Extracting  新建文件夹/41.jpg                                                 \b\b\b\b 59%\b\b\b\b\b  OK \n",
            "Extracting  新建文件夹/42.jpg                                                 \b\b\b\b 59%\b\b\b\b\b  OK \n",
            "Extracting  新建文件夹/43.jpg                                                 \b\b\b\b 59%\b\b\b\b\b  OK \n",
            "Extracting  新建文件夹/44.jpg                                                 \b\b\b\b 59%\b\b\b\b\b  OK \n",
            "Extracting  新建文件夹/45.jpg                                                 \b\b\b\b 59%\b\b\b\b\b  OK \n",
            "Extracting  新建文件夹/46.jpg                                                 \b\b\b\b 59%\b\b\b\b\b  OK \n",
            "Extracting  新建文件夹/47.jpg                                                 \b\b\b\b 60%\b\b\b\b\b  OK \n",
            "Extracting  新建文件夹/48.jpg                                                 \b\b\b\b 60%\b\b\b\b\b  OK \n",
            "Extracting  新建文件夹/49.png                                                 \b\b\b\b 73%\b\b\b\b 74%\b\b\b\b\b  OK \n",
            "Extracting  新建文件夹/5.jpg                                                  \b\b\b\b 74%\b\b\b\b\b  OK \n",
            "Extracting  新建文件夹/50.png                                                 \b\b\b\b 88%\b\b\b\b 93%\b\b\b\b\b  OK \n",
            "Extracting  新建文件夹/51.jpg                                                 \b\b\b\b 93%\b\b\b\b\b  OK \n",
            "Extracting  新建文件夹/52.jpg                                                 \b\b\b\b 93%\b\b\b\b\b  OK \n",
            "Extracting  新建文件夹/53.jpg                                                 \b\b\b\b 93%\b\b\b\b\b  OK \n",
            "Extracting  新建文件夹/54.jpg                                                 \b\b\b\b 93%\b\b\b\b\b  OK \n",
            "Extracting  新建文件夹/55.jpg                                                 \b\b\b\b 93%\b\b\b\b\b  OK \n",
            "Extracting  新建文件夹/56.jpg                                                 \b\b\b\b 93%\b\b\b\b\b  OK \n",
            "Extracting  新建文件夹/57.jpg                                                 \b\b\b\b 93%\b\b\b\b\b  OK \n",
            "Extracting  新建文件夹/58.jpg                                                 \b\b\b\b 93%\b\b\b\b\b  OK \n",
            "Extracting  新建文件夹/59.jpg                                                 \b\b\b\b 93%\b\b\b\b\b  OK \n",
            "Extracting  新建文件夹/6.jpg                                                  \b\b\b\b 94%\b\b\b\b\b  OK \n",
            "Extracting  新建文件夹/60.jpg                                                 \b\b\b\b 94%\b\b\b\b\b  OK \n",
            "Extracting  新建文件夹/61.jpg                                                 \b\b\b\b 94%\b\b\b\b\b  OK \n",
            "Extracting  新建文件夹/62.jpg                                                 \b\b\b\b 94%\b\b\b\b\b  OK \n",
            "Extracting  新建文件夹/63.jpg                                                 \b\b\b\b 94%\b\b\b\b\b  OK \n",
            "Extracting  新建文件夹/64.jpg                                                 \b\b\b\b 94%\b\b\b\b\b  OK \n",
            "Extracting  新建文件夹/65.jpg                                                 \b\b\b\b 94%\b\b\b\b\b  OK \n",
            "Extracting  新建文件夹/66.jpg                                                 \b\b\b\b 94%\b\b\b\b\b  OK \n",
            "Extracting  新建文件夹/67.jpg                                                 \b\b\b\b 94%\b\b\b\b\b  OK \n",
            "Extracting  新建文件夹/68.jpg                                                 \b\b\b\b 94%\b\b\b\b\b  OK \n",
            "Extracting  新建文件夹/69.jpg                                                 \b\b\b\b 94%\b\b\b\b\b  OK \n",
            "Extracting  新建文件夹/7.jpg                                                  \b\b\b\b 95%\b\b\b\b\b  OK \n",
            "Extracting  新建文件夹/70.jpg                                                 \b\b\b\b 95%\b\b\b\b\b  OK \n",
            "Extracting  新建文件夹/71.jpg                                                 \b\b\b\b 95%\b\b\b\b\b  OK \n",
            "Extracting  新建文件夹/72.jpg                                                 \b\b\b\b 95%\b\b\b\b\b  OK \n",
            "Extracting  新建文件夹/73.jpg                                                 \b\b\b\b 95%\b\b\b\b\b  OK \n",
            "Extracting  新建文件夹/74.jpg                                                 \b\b\b\b 95%\b\b\b\b\b  OK \n",
            "Extracting  新建文件夹/75.jpg                                                 \b\b\b\b 96%\b\b\b\b\b  OK \n",
            "Extracting  新建文件夹/76.jpg                                                 \b\b\b\b 96%\b\b\b\b\b  OK \n",
            "Extracting  新建文件夹/77.jpg                                                 \b\b\b\b 96%\b\b\b\b\b  OK \n",
            "Extracting  新建文件夹/78.jpg                                                 \b\b\b\b 96%\b\b\b\b\b  OK \n",
            "Extracting  新建文件夹/79.jpg                                                 \b\b\b\b 96%\b\b\b\b\b  OK \n",
            "Extracting  新建文件夹/8.jpg                                                  \b\b\b\b 96%\b\b\b\b\b  OK \n",
            "Extracting  新建文件夹/80.jpg                                                 \b\b\b\b 96%\b\b\b\b\b  OK \n",
            "Extracting  新建文件夹/81.jpg                                                 \b\b\b\b 97%\b\b\b\b\b  OK \n",
            "Extracting  新建文件夹/82.jpg                                                 \b\b\b\b 97%\b\b\b\b\b  OK \n",
            "Extracting  新建文件夹/83.jpg                                                 \b\b\b\b 97%\b\b\b\b\b  OK \n",
            "Extracting  新建文件夹/84.jpg                                                 \b\b\b\b 97%\b\b\b\b\b  OK \n",
            "Extracting  新建文件夹/85.jpg                                                 \b\b\b\b 97%\b\b\b\b\b  OK \n",
            "Extracting  新建文件夹/86.jpg                                                 \b\b\b\b 97%\b\b\b\b\b  OK \n",
            "Extracting  新建文件夹/87.jpg                                                 \b\b\b\b 97%\b\b\b\b\b  OK \n",
            "Extracting  新建文件夹/88.jpg                                                 \b\b\b\b 98%\b\b\b\b\b  OK \n",
            "Extracting  新建文件夹/89.jpg                                                 \b\b\b\b 98%\b\b\b\b\b  OK \n",
            "Extracting  新建文件夹/9.jpg                                                  \b\b\b\b 98%\b\b\b\b\b  OK \n",
            "Extracting  新建文件夹/90.jpg                                                 \b\b\b\b 98%\b\b\b\b\b  OK \n",
            "Extracting  新建文件夹/91.jpg                                                 \b\b\b\b 98%\b\b\b\b\b  OK \n",
            "Extracting  新建文件夹/92.jpg                                                 \b\b\b\b 98%\b\b\b\b\b  OK \n",
            "Extracting  新建文件夹/93.jpg                                                 \b\b\b\b 98%\b\b\b\b\b  OK \n",
            "Extracting  新建文件夹/94.jpg                                                 \b\b\b\b 99%\b\b\b\b\b  OK \n",
            "Extracting  新建文件夹/95.jpg                                                 \b\b\b\b 99%\b\b\b\b\b  OK \n",
            "Extracting  新建文件夹/96.jpg                                                 \b\b\b\b 99%\b\b\b\b\b  OK \n",
            "Extracting  新建文件夹/97.jpg                                                 \b\b\b\b 99%\b\b\b\b\b  OK \n",
            "Extracting  新建文件夹/98.jpg                                                 \b\b\b\b 99%\b\b\b\b\b  OK \n",
            "Extracting  新建文件夹/99.jpg                                                 \b\b\b\b 99%\b\b\b\b\b  OK \n",
            "Extracting  新建文件夹/加了score值的表格.csv                                        \b\b\b\b 99%\b\b\b\b\b  OK \n",
            "All OK\n"
          ]
        }
      ]
    },
    {
      "cell_type": "markdown",
      "metadata": {
        "id": "4O8ylo5Wgvt8"
      },
      "source": [
        "# 导入python包"
      ]
    },
    {
      "cell_type": "code",
      "execution_count": null,
      "metadata": {
        "id": "0PMu5-fSgvt8"
      },
      "outputs": [],
      "source": [
        "import matplotlib.pyplot as plt\n",
        "import pandas as pd\n",
        "import numpy as np\n",
        "import os\n",
        "from PIL import Image\n",
        "import seaborn as sns\n",
        "\n",
        "from tokenizers import Tokenizer\n",
        "from sklearn.metrics import classification_report\n",
        "from sklearn.metrics import confusion_matrix\n",
        "from sklearn import metrics\n",
        "from sklearn.preprocessing import LabelEncoder\n",
        "from sklearn.model_selection import train_test_split\n",
        "\n",
        "from torch.utils.data import Dataset\n",
        "from torch.utils.data import DataLoader\n",
        "import torch\n",
        "from torch import nn\n",
        "from torch.nn import  functional as F\n",
        "\n",
        "from torchvision.io import read_image\n",
        "from torchvision import datasets\n",
        "from torchvision.transforms import ToTensor\n",
        "from torchvision import transforms\n",
        "import torchvision\n",
        "\n",
        "\n",
        "from torchvision import datasets,models\n",
        "\n",
        "from transformers import AutoTokenizer, AutoModelForSequenceClassification"
      ]
    },
    {
      "cell_type": "markdown",
      "metadata": {
        "id": "Kp0e9kDugvt9"
      },
      "source": [
        "# 超参数定义"
      ]
    },
    {
      "cell_type": "code",
      "execution_count": null,
      "metadata": {
        "id": "GeNpFaj1gvt9"
      },
      "outputs": [],
      "source": [
        "\n",
        "max_len = 40\n",
        "n_class = 8\n",
        "num_classes = 4\n",
        "train_num = 160\n",
        "test_num = 40"
      ]
    },
    {
      "cell_type": "code",
      "source": [],
      "metadata": {
        "id": "XEAlNwAPfdD9"
      },
      "execution_count": null,
      "outputs": []
    },
    {
      "cell_type": "code",
      "source": [],
      "metadata": {
        "id": "6huG5Op0Uwx-"
      },
      "execution_count": null,
      "outputs": []
    },
    {
      "cell_type": "markdown",
      "metadata": {
        "id": "MUzy55KxfZC3"
      },
      "source": [
        "# 准备数据集"
      ]
    },
    {
      "cell_type": "code",
      "source": [],
      "metadata": {
        "id": "JmZqrg--fZC3"
      },
      "execution_count": null,
      "outputs": []
    },
    {
      "cell_type": "markdown",
      "source": [
        "## 生成训练集和测试集"
      ],
      "metadata": {
        "id": "B-6cCgJ1fZC3"
      }
    },
    {
      "cell_type": "code",
      "source": [
        "def get_pic_name(item):\n",
        "  pic_name = item.split('/')[-1]\n",
        "  pic_path = '/content/新建文件夹/'+pic_name\n",
        "  return pic_path"
      ],
      "metadata": {
        "id": "XL_Rm2TvAR0K"
      },
      "execution_count": null,
      "outputs": []
    },
    {
      "cell_type": "code",
      "source": [
        "import json\n",
        "import re\n",
        "\n",
        "def get_num_list(json_str):\n",
        "  # json_str = \"{'score': [0.1, 0.7, 0.2]}\"\n",
        "  ori_list = json_str.split('[')[1].split(']')[0].split(',')\n",
        "  num_list = [float(item) for item in ori_list]\n",
        "  return num_list\n",
        "\n"
      ],
      "metadata": {
        "id": "XKkIBssEg74P"
      },
      "execution_count": null,
      "outputs": []
    },
    {
      "cell_type": "code",
      "source": [
        "pd_all = pd.read_csv('/content/新建文件夹/加了score值的表格.csv').sample(frac=1).reset_index(drop=True)\n",
        "pd_all['pic_path'] = pd_all['pic'].map(get_pic_name)\n",
        "pd_all['label'] = pd_all['label'] - 1\n",
        "pd_all['vec'] = pd_all.score.map(get_num_list)\n",
        "pd_train = pd_all[:160]\n",
        "pd_test = pd_all[160:]\n",
        "pd_all"
      ],
      "metadata": {
        "colab": {
          "base_uri": "https://localhost:8080/",
          "height": 614
        },
        "id": "DtxHuO2_golQ",
        "outputId": "7eaaf863-721c-42d5-979c-6ef7ab988d38"
      },
      "execution_count": null,
      "outputs": [
        {
          "output_type": "execute_result",
          "data": {
            "text/plain": [
              "     Unnamed: 0               pic  label  \\\n",
              "0            39   /content/39.jpg      0   \n",
              "1            98   /content/98.jpg      1   \n",
              "2            74   /content/74.jpg      1   \n",
              "3            14   /content/14.jpg      0   \n",
              "4           185  /content/185.jpg      3   \n",
              "..          ...               ...    ...   \n",
              "195         150  /content/150.jpg      2   \n",
              "196         166  /content/166.jpg      3   \n",
              "197         171  /content/171.jpg      3   \n",
              "198          84   /content/84.jpg      1   \n",
              "199         105  /content/105.jpg      2   \n",
              "\n",
              "                                                  text  \\\n",
              "0     一群抗议者在美国密歇根州议会大厦外手持枪支举行抗议活动。抗议者们反对该州的封锁措施，并要求...   \n",
              "1     图片中，一个男人背对着我们，手里握着一把刀。他穿着一件黑色的T恤衫，刀子插在他的后背上，刀...   \n",
              "2     图片显示了三个青少年，其中两个男孩和一个女孩。男孩们穿着连帽衫，女孩穿着一件绿色的夹克衫。...   \n",
              "3     金发碧眼的女孩身穿黑色夹克，手持双枪，表情严肃地看着前方。她的双手交叉握住枪柄，枪口朝下。...   \n",
              "4     这是一辆芝加哥警局的警车，在执行任务时与一辆黑色轿车相撞，导致警车严重损坏。从图片中可以看...   \n",
              "..                                                 ...   \n",
              "195   一名男子从高楼坠落，趴在楼顶边缘，双腿悬空。他身穿白色长裤和白色上衣，看起来已经失去了知觉...   \n",
              "196   这是一辆黑色的保时捷轿车，在发生事故后翻覆在地面上。车身严重变形，车顶凹陷，车门打开，安全...   \n",
              "197   这是一起惨烈的交通事故，一辆红色的大货车和一辆蓝色的小货车相撞，小货车被大货车压在车头下面...   \n",
              "198   这是一张关于刀具的图片。图片中有一个手持刀具的人，刀具种类繁多，有折叠刀、直刀、斧头等。刀...   \n",
              "199            一名男子坐在高楼的边缘，做好了跳楼的准备。几名警察在楼顶试图劝说男子不要轻生。   \n",
              "\n",
              "                              score                pic_path  \\\n",
              "0        {'score': [0.1, 0.3, 0.6]}   /content/新建文件夹/39.jpg   \n",
              "1        {'score': [0.1, 0.2, 0.7]}   /content/新建文件夹/98.jpg   \n",
              "2          {'score': [0.1,0.7,0.2]}   /content/新建文件夹/74.jpg   \n",
              "3        {'score': [0.1, 0.7, 0.2]}   /content/新建文件夹/14.jpg   \n",
              "4        {'score': [0.1, 0.2, 0.7]}  /content/新建文件夹/185.jpg   \n",
              "..                              ...                     ...   \n",
              "195      {'score': [0.1, 0.7, 0.2]}  /content/新建文件夹/150.jpg   \n",
              "196      {'score': [0.1, 0.2, 0.7]}  /content/新建文件夹/166.jpg   \n",
              "197   {'score': [0.05, 0.01, 0.94]}  /content/新建文件夹/171.jpg   \n",
              "198      {'score': [0.1, 0.2, 0.7]}   /content/新建文件夹/84.jpg   \n",
              "199      {'score': [0.1, 0.7, 0.2]}  /content/新建文件夹/105.jpg   \n",
              "\n",
              "                    vec  \n",
              "0       [0.1, 0.3, 0.6]  \n",
              "1       [0.1, 0.2, 0.7]  \n",
              "2       [0.1, 0.7, 0.2]  \n",
              "3       [0.1, 0.7, 0.2]  \n",
              "4       [0.1, 0.2, 0.7]  \n",
              "..                  ...  \n",
              "195     [0.1, 0.7, 0.2]  \n",
              "196     [0.1, 0.2, 0.7]  \n",
              "197  [0.05, 0.01, 0.94]  \n",
              "198     [0.1, 0.2, 0.7]  \n",
              "199     [0.1, 0.7, 0.2]  \n",
              "\n",
              "[200 rows x 7 columns]"
            ],
            "text/html": [
              "\n",
              "  <div id=\"df-700c30ab-bcef-41fd-ba72-bc7915e7fa11\" class=\"colab-df-container\">\n",
              "    <div>\n",
              "<style scoped>\n",
              "    .dataframe tbody tr th:only-of-type {\n",
              "        vertical-align: middle;\n",
              "    }\n",
              "\n",
              "    .dataframe tbody tr th {\n",
              "        vertical-align: top;\n",
              "    }\n",
              "\n",
              "    .dataframe thead th {\n",
              "        text-align: right;\n",
              "    }\n",
              "</style>\n",
              "<table border=\"1\" class=\"dataframe\">\n",
              "  <thead>\n",
              "    <tr style=\"text-align: right;\">\n",
              "      <th></th>\n",
              "      <th>Unnamed: 0</th>\n",
              "      <th>pic</th>\n",
              "      <th>label</th>\n",
              "      <th>text</th>\n",
              "      <th>score</th>\n",
              "      <th>pic_path</th>\n",
              "      <th>vec</th>\n",
              "    </tr>\n",
              "  </thead>\n",
              "  <tbody>\n",
              "    <tr>\n",
              "      <th>0</th>\n",
              "      <td>39</td>\n",
              "      <td>/content/39.jpg</td>\n",
              "      <td>0</td>\n",
              "      <td>一群抗议者在美国密歇根州议会大厦外手持枪支举行抗议活动。抗议者们反对该州的封锁措施，并要求...</td>\n",
              "      <td>{'score': [0.1, 0.3, 0.6]}</td>\n",
              "      <td>/content/新建文件夹/39.jpg</td>\n",
              "      <td>[0.1, 0.3, 0.6]</td>\n",
              "    </tr>\n",
              "    <tr>\n",
              "      <th>1</th>\n",
              "      <td>98</td>\n",
              "      <td>/content/98.jpg</td>\n",
              "      <td>1</td>\n",
              "      <td>图片中，一个男人背对着我们，手里握着一把刀。他穿着一件黑色的T恤衫，刀子插在他的后背上，刀...</td>\n",
              "      <td>{'score': [0.1, 0.2, 0.7]}</td>\n",
              "      <td>/content/新建文件夹/98.jpg</td>\n",
              "      <td>[0.1, 0.2, 0.7]</td>\n",
              "    </tr>\n",
              "    <tr>\n",
              "      <th>2</th>\n",
              "      <td>74</td>\n",
              "      <td>/content/74.jpg</td>\n",
              "      <td>1</td>\n",
              "      <td>图片显示了三个青少年，其中两个男孩和一个女孩。男孩们穿着连帽衫，女孩穿着一件绿色的夹克衫。...</td>\n",
              "      <td>{'score': [0.1,0.7,0.2]}</td>\n",
              "      <td>/content/新建文件夹/74.jpg</td>\n",
              "      <td>[0.1, 0.7, 0.2]</td>\n",
              "    </tr>\n",
              "    <tr>\n",
              "      <th>3</th>\n",
              "      <td>14</td>\n",
              "      <td>/content/14.jpg</td>\n",
              "      <td>0</td>\n",
              "      <td>金发碧眼的女孩身穿黑色夹克，手持双枪，表情严肃地看着前方。她的双手交叉握住枪柄，枪口朝下。...</td>\n",
              "      <td>{'score': [0.1, 0.7, 0.2]}</td>\n",
              "      <td>/content/新建文件夹/14.jpg</td>\n",
              "      <td>[0.1, 0.7, 0.2]</td>\n",
              "    </tr>\n",
              "    <tr>\n",
              "      <th>4</th>\n",
              "      <td>185</td>\n",
              "      <td>/content/185.jpg</td>\n",
              "      <td>3</td>\n",
              "      <td>这是一辆芝加哥警局的警车，在执行任务时与一辆黑色轿车相撞，导致警车严重损坏。从图片中可以看...</td>\n",
              "      <td>{'score': [0.1, 0.2, 0.7]}</td>\n",
              "      <td>/content/新建文件夹/185.jpg</td>\n",
              "      <td>[0.1, 0.2, 0.7]</td>\n",
              "    </tr>\n",
              "    <tr>\n",
              "      <th>...</th>\n",
              "      <td>...</td>\n",
              "      <td>...</td>\n",
              "      <td>...</td>\n",
              "      <td>...</td>\n",
              "      <td>...</td>\n",
              "      <td>...</td>\n",
              "      <td>...</td>\n",
              "    </tr>\n",
              "    <tr>\n",
              "      <th>195</th>\n",
              "      <td>150</td>\n",
              "      <td>/content/150.jpg</td>\n",
              "      <td>2</td>\n",
              "      <td>一名男子从高楼坠落，趴在楼顶边缘，双腿悬空。他身穿白色长裤和白色上衣，看起来已经失去了知觉...</td>\n",
              "      <td>{'score': [0.1, 0.7, 0.2]}</td>\n",
              "      <td>/content/新建文件夹/150.jpg</td>\n",
              "      <td>[0.1, 0.7, 0.2]</td>\n",
              "    </tr>\n",
              "    <tr>\n",
              "      <th>196</th>\n",
              "      <td>166</td>\n",
              "      <td>/content/166.jpg</td>\n",
              "      <td>3</td>\n",
              "      <td>这是一辆黑色的保时捷轿车，在发生事故后翻覆在地面上。车身严重变形，车顶凹陷，车门打开，安全...</td>\n",
              "      <td>{'score': [0.1, 0.2, 0.7]}</td>\n",
              "      <td>/content/新建文件夹/166.jpg</td>\n",
              "      <td>[0.1, 0.2, 0.7]</td>\n",
              "    </tr>\n",
              "    <tr>\n",
              "      <th>197</th>\n",
              "      <td>171</td>\n",
              "      <td>/content/171.jpg</td>\n",
              "      <td>3</td>\n",
              "      <td>这是一起惨烈的交通事故，一辆红色的大货车和一辆蓝色的小货车相撞，小货车被大货车压在车头下面...</td>\n",
              "      <td>{'score': [0.05, 0.01, 0.94]}</td>\n",
              "      <td>/content/新建文件夹/171.jpg</td>\n",
              "      <td>[0.05, 0.01, 0.94]</td>\n",
              "    </tr>\n",
              "    <tr>\n",
              "      <th>198</th>\n",
              "      <td>84</td>\n",
              "      <td>/content/84.jpg</td>\n",
              "      <td>1</td>\n",
              "      <td>这是一张关于刀具的图片。图片中有一个手持刀具的人，刀具种类繁多，有折叠刀、直刀、斧头等。刀...</td>\n",
              "      <td>{'score': [0.1, 0.2, 0.7]}</td>\n",
              "      <td>/content/新建文件夹/84.jpg</td>\n",
              "      <td>[0.1, 0.2, 0.7]</td>\n",
              "    </tr>\n",
              "    <tr>\n",
              "      <th>199</th>\n",
              "      <td>105</td>\n",
              "      <td>/content/105.jpg</td>\n",
              "      <td>2</td>\n",
              "      <td>一名男子坐在高楼的边缘，做好了跳楼的准备。几名警察在楼顶试图劝说男子不要轻生。</td>\n",
              "      <td>{'score': [0.1, 0.7, 0.2]}</td>\n",
              "      <td>/content/新建文件夹/105.jpg</td>\n",
              "      <td>[0.1, 0.7, 0.2]</td>\n",
              "    </tr>\n",
              "  </tbody>\n",
              "</table>\n",
              "<p>200 rows × 7 columns</p>\n",
              "</div>\n",
              "    <div class=\"colab-df-buttons\">\n",
              "\n",
              "  <div class=\"colab-df-container\">\n",
              "    <button class=\"colab-df-convert\" onclick=\"convertToInteractive('df-700c30ab-bcef-41fd-ba72-bc7915e7fa11')\"\n",
              "            title=\"Convert this dataframe to an interactive table.\"\n",
              "            style=\"display:none;\">\n",
              "\n",
              "  <svg xmlns=\"http://www.w3.org/2000/svg\" height=\"24px\" viewBox=\"0 -960 960 960\">\n",
              "    <path d=\"M120-120v-720h720v720H120Zm60-500h600v-160H180v160Zm220 220h160v-160H400v160Zm0 220h160v-160H400v160ZM180-400h160v-160H180v160Zm440 0h160v-160H620v160ZM180-180h160v-160H180v160Zm440 0h160v-160H620v160Z\"/>\n",
              "  </svg>\n",
              "    </button>\n",
              "\n",
              "  <style>\n",
              "    .colab-df-container {\n",
              "      display:flex;\n",
              "      gap: 12px;\n",
              "    }\n",
              "\n",
              "    .colab-df-convert {\n",
              "      background-color: #E8F0FE;\n",
              "      border: none;\n",
              "      border-radius: 50%;\n",
              "      cursor: pointer;\n",
              "      display: none;\n",
              "      fill: #1967D2;\n",
              "      height: 32px;\n",
              "      padding: 0 0 0 0;\n",
              "      width: 32px;\n",
              "    }\n",
              "\n",
              "    .colab-df-convert:hover {\n",
              "      background-color: #E2EBFA;\n",
              "      box-shadow: 0px 1px 2px rgba(60, 64, 67, 0.3), 0px 1px 3px 1px rgba(60, 64, 67, 0.15);\n",
              "      fill: #174EA6;\n",
              "    }\n",
              "\n",
              "    .colab-df-buttons div {\n",
              "      margin-bottom: 4px;\n",
              "    }\n",
              "\n",
              "    [theme=dark] .colab-df-convert {\n",
              "      background-color: #3B4455;\n",
              "      fill: #D2E3FC;\n",
              "    }\n",
              "\n",
              "    [theme=dark] .colab-df-convert:hover {\n",
              "      background-color: #434B5C;\n",
              "      box-shadow: 0px 1px 3px 1px rgba(0, 0, 0, 0.15);\n",
              "      filter: drop-shadow(0px 1px 2px rgba(0, 0, 0, 0.3));\n",
              "      fill: #FFFFFF;\n",
              "    }\n",
              "  </style>\n",
              "\n",
              "    <script>\n",
              "      const buttonEl =\n",
              "        document.querySelector('#df-700c30ab-bcef-41fd-ba72-bc7915e7fa11 button.colab-df-convert');\n",
              "      buttonEl.style.display =\n",
              "        google.colab.kernel.accessAllowed ? 'block' : 'none';\n",
              "\n",
              "      async function convertToInteractive(key) {\n",
              "        const element = document.querySelector('#df-700c30ab-bcef-41fd-ba72-bc7915e7fa11');\n",
              "        const dataTable =\n",
              "          await google.colab.kernel.invokeFunction('convertToInteractive',\n",
              "                                                    [key], {});\n",
              "        if (!dataTable) return;\n",
              "\n",
              "        const docLinkHtml = 'Like what you see? Visit the ' +\n",
              "          '<a target=\"_blank\" href=https://colab.research.google.com/notebooks/data_table.ipynb>data table notebook</a>'\n",
              "          + ' to learn more about interactive tables.';\n",
              "        element.innerHTML = '';\n",
              "        dataTable['output_type'] = 'display_data';\n",
              "        await google.colab.output.renderOutput(dataTable, element);\n",
              "        const docLink = document.createElement('div');\n",
              "        docLink.innerHTML = docLinkHtml;\n",
              "        element.appendChild(docLink);\n",
              "      }\n",
              "    </script>\n",
              "  </div>\n",
              "\n",
              "\n",
              "    <div id=\"df-504b15b3-c0bc-4147-a75b-bb0636e32347\">\n",
              "      <button class=\"colab-df-quickchart\" onclick=\"quickchart('df-504b15b3-c0bc-4147-a75b-bb0636e32347')\"\n",
              "                title=\"Suggest charts\"\n",
              "                style=\"display:none;\">\n",
              "\n",
              "<svg xmlns=\"http://www.w3.org/2000/svg\" height=\"24px\"viewBox=\"0 0 24 24\"\n",
              "     width=\"24px\">\n",
              "    <g>\n",
              "        <path d=\"M19 3H5c-1.1 0-2 .9-2 2v14c0 1.1.9 2 2 2h14c1.1 0 2-.9 2-2V5c0-1.1-.9-2-2-2zM9 17H7v-7h2v7zm4 0h-2V7h2v10zm4 0h-2v-4h2v4z\"/>\n",
              "    </g>\n",
              "</svg>\n",
              "      </button>\n",
              "\n",
              "<style>\n",
              "  .colab-df-quickchart {\n",
              "      --bg-color: #E8F0FE;\n",
              "      --fill-color: #1967D2;\n",
              "      --hover-bg-color: #E2EBFA;\n",
              "      --hover-fill-color: #174EA6;\n",
              "      --disabled-fill-color: #AAA;\n",
              "      --disabled-bg-color: #DDD;\n",
              "  }\n",
              "\n",
              "  [theme=dark] .colab-df-quickchart {\n",
              "      --bg-color: #3B4455;\n",
              "      --fill-color: #D2E3FC;\n",
              "      --hover-bg-color: #434B5C;\n",
              "      --hover-fill-color: #FFFFFF;\n",
              "      --disabled-bg-color: #3B4455;\n",
              "      --disabled-fill-color: #666;\n",
              "  }\n",
              "\n",
              "  .colab-df-quickchart {\n",
              "    background-color: var(--bg-color);\n",
              "    border: none;\n",
              "    border-radius: 50%;\n",
              "    cursor: pointer;\n",
              "    display: none;\n",
              "    fill: var(--fill-color);\n",
              "    height: 32px;\n",
              "    padding: 0;\n",
              "    width: 32px;\n",
              "  }\n",
              "\n",
              "  .colab-df-quickchart:hover {\n",
              "    background-color: var(--hover-bg-color);\n",
              "    box-shadow: 0 1px 2px rgba(60, 64, 67, 0.3), 0 1px 3px 1px rgba(60, 64, 67, 0.15);\n",
              "    fill: var(--button-hover-fill-color);\n",
              "  }\n",
              "\n",
              "  .colab-df-quickchart-complete:disabled,\n",
              "  .colab-df-quickchart-complete:disabled:hover {\n",
              "    background-color: var(--disabled-bg-color);\n",
              "    fill: var(--disabled-fill-color);\n",
              "    box-shadow: none;\n",
              "  }\n",
              "\n",
              "  .colab-df-spinner {\n",
              "    border: 2px solid var(--fill-color);\n",
              "    border-color: transparent;\n",
              "    border-bottom-color: var(--fill-color);\n",
              "    animation:\n",
              "      spin 1s steps(1) infinite;\n",
              "  }\n",
              "\n",
              "  @keyframes spin {\n",
              "    0% {\n",
              "      border-color: transparent;\n",
              "      border-bottom-color: var(--fill-color);\n",
              "      border-left-color: var(--fill-color);\n",
              "    }\n",
              "    20% {\n",
              "      border-color: transparent;\n",
              "      border-left-color: var(--fill-color);\n",
              "      border-top-color: var(--fill-color);\n",
              "    }\n",
              "    30% {\n",
              "      border-color: transparent;\n",
              "      border-left-color: var(--fill-color);\n",
              "      border-top-color: var(--fill-color);\n",
              "      border-right-color: var(--fill-color);\n",
              "    }\n",
              "    40% {\n",
              "      border-color: transparent;\n",
              "      border-right-color: var(--fill-color);\n",
              "      border-top-color: var(--fill-color);\n",
              "    }\n",
              "    60% {\n",
              "      border-color: transparent;\n",
              "      border-right-color: var(--fill-color);\n",
              "    }\n",
              "    80% {\n",
              "      border-color: transparent;\n",
              "      border-right-color: var(--fill-color);\n",
              "      border-bottom-color: var(--fill-color);\n",
              "    }\n",
              "    90% {\n",
              "      border-color: transparent;\n",
              "      border-bottom-color: var(--fill-color);\n",
              "    }\n",
              "  }\n",
              "</style>\n",
              "\n",
              "      <script>\n",
              "        async function quickchart(key) {\n",
              "          const quickchartButtonEl =\n",
              "            document.querySelector('#' + key + ' button');\n",
              "          quickchartButtonEl.disabled = true;  // To prevent multiple clicks.\n",
              "          quickchartButtonEl.classList.add('colab-df-spinner');\n",
              "          try {\n",
              "            const charts = await google.colab.kernel.invokeFunction(\n",
              "                'suggestCharts', [key], {});\n",
              "          } catch (error) {\n",
              "            console.error('Error during call to suggestCharts:', error);\n",
              "          }\n",
              "          quickchartButtonEl.classList.remove('colab-df-spinner');\n",
              "          quickchartButtonEl.classList.add('colab-df-quickchart-complete');\n",
              "        }\n",
              "        (() => {\n",
              "          let quickchartButtonEl =\n",
              "            document.querySelector('#df-504b15b3-c0bc-4147-a75b-bb0636e32347 button');\n",
              "          quickchartButtonEl.style.display =\n",
              "            google.colab.kernel.accessAllowed ? 'block' : 'none';\n",
              "        })();\n",
              "      </script>\n",
              "    </div>\n",
              "\n",
              "  <div id=\"id_239910ad-e33f-4de6-bc55-1c840ee82ec0\">\n",
              "    <style>\n",
              "      .colab-df-generate {\n",
              "        background-color: #E8F0FE;\n",
              "        border: none;\n",
              "        border-radius: 50%;\n",
              "        cursor: pointer;\n",
              "        display: none;\n",
              "        fill: #1967D2;\n",
              "        height: 32px;\n",
              "        padding: 0 0 0 0;\n",
              "        width: 32px;\n",
              "      }\n",
              "\n",
              "      .colab-df-generate:hover {\n",
              "        background-color: #E2EBFA;\n",
              "        box-shadow: 0px 1px 2px rgba(60, 64, 67, 0.3), 0px 1px 3px 1px rgba(60, 64, 67, 0.15);\n",
              "        fill: #174EA6;\n",
              "      }\n",
              "\n",
              "      [theme=dark] .colab-df-generate {\n",
              "        background-color: #3B4455;\n",
              "        fill: #D2E3FC;\n",
              "      }\n",
              "\n",
              "      [theme=dark] .colab-df-generate:hover {\n",
              "        background-color: #434B5C;\n",
              "        box-shadow: 0px 1px 3px 1px rgba(0, 0, 0, 0.15);\n",
              "        filter: drop-shadow(0px 1px 2px rgba(0, 0, 0, 0.3));\n",
              "        fill: #FFFFFF;\n",
              "      }\n",
              "    </style>\n",
              "    <button class=\"colab-df-generate\" onclick=\"generateWithVariable('pd_all')\"\n",
              "            title=\"Generate code using this dataframe.\"\n",
              "            style=\"display:none;\">\n",
              "\n",
              "  <svg xmlns=\"http://www.w3.org/2000/svg\" height=\"24px\"viewBox=\"0 0 24 24\"\n",
              "       width=\"24px\">\n",
              "    <path d=\"M7,19H8.4L18.45,9,17,7.55,7,17.6ZM5,21V16.75L18.45,3.32a2,2,0,0,1,2.83,0l1.4,1.43a1.91,1.91,0,0,1,.58,1.4,1.91,1.91,0,0,1-.58,1.4L9.25,21ZM18.45,9,17,7.55Zm-12,3A5.31,5.31,0,0,0,4.9,8.1,5.31,5.31,0,0,0,1,6.5,5.31,5.31,0,0,0,4.9,4.9,5.31,5.31,0,0,0,6.5,1,5.31,5.31,0,0,0,8.1,4.9,5.31,5.31,0,0,0,12,6.5,5.46,5.46,0,0,0,6.5,12Z\"/>\n",
              "  </svg>\n",
              "    </button>\n",
              "    <script>\n",
              "      (() => {\n",
              "      const buttonEl =\n",
              "        document.querySelector('#id_239910ad-e33f-4de6-bc55-1c840ee82ec0 button.colab-df-generate');\n",
              "      buttonEl.style.display =\n",
              "        google.colab.kernel.accessAllowed ? 'block' : 'none';\n",
              "\n",
              "      buttonEl.onclick = () => {\n",
              "        google.colab.notebook.generateWithVariable('pd_all');\n",
              "      }\n",
              "      })();\n",
              "    </script>\n",
              "  </div>\n",
              "\n",
              "    </div>\n",
              "  </div>\n"
            ],
            "application/vnd.google.colaboratory.intrinsic+json": {
              "type": "dataframe",
              "variable_name": "pd_all",
              "summary": "{\n  \"name\": \"pd_all\",\n  \"rows\": 200,\n  \"fields\": [\n    {\n      \"column\": \"Unnamed: 0\",\n      \"properties\": {\n        \"dtype\": \"number\",\n        \"std\": 57,\n        \"min\": 1,\n        \"max\": 200,\n        \"num_unique_values\": 200,\n        \"samples\": [\n          64,\n          142,\n          172\n        ],\n        \"semantic_type\": \"\",\n        \"description\": \"\"\n      }\n    },\n    {\n      \"column\": \"pic\",\n      \"properties\": {\n        \"dtype\": \"string\",\n        \"num_unique_values\": 200,\n        \"samples\": [\n          \"/content/64.jpg\",\n          \"/content/142.jpg\",\n          \"/content/172.jpg\"\n        ],\n        \"semantic_type\": \"\",\n        \"description\": \"\"\n      }\n    },\n    {\n      \"column\": \"label\",\n      \"properties\": {\n        \"dtype\": \"number\",\n        \"std\": 1,\n        \"min\": 0,\n        \"max\": 3,\n        \"num_unique_values\": 4,\n        \"samples\": [\n          1,\n          2,\n          0\n        ],\n        \"semantic_type\": \"\",\n        \"description\": \"\"\n      }\n    },\n    {\n      \"column\": \"text\",\n      \"properties\": {\n        \"dtype\": \"string\",\n        \"num_unique_values\": 199,\n        \"samples\": [\n          \" \\u4e00\\u540d\\u7537\\u5b50\\u7ad9\\u5728\\u9ad8\\u697c\\u7684\\u8fb9\\u7f18\\uff0c\\u505a\\u7740\\u8df3\\u697c\\u72b6\\uff0c\\u4ed6\\u5de6\\u624b\\u9ad8\\u4e3e\\uff0c\\u53f3\\u624b\\u6301\\u76f8\\u673a\\u8fdb\\u884c\\u81ea\\u62cd\\uff0c\\u4ed6\\u7684\\u8138\\u4e0a\\u9732\\u51fa\\u5174\\u594b\\u7684\\u8868\\u60c5\\u3002\",\n          \" \\u4e00\\u4e2a\\u7537\\u5b50\\u5728\\u9ad8\\u697c\\u5929\\u53f0\\u7684\\u5916\\u6cbf\\u505a\\u7740\\u5371\\u9669\\u7684\\u52a8\\u4f5c\\uff0c\\u4ed6\\u4e00\\u53ea\\u624b\\u6293\\u4f4f\\u680f\\u6746\\uff0c\\u53e6\\u4e00\\u53ea\\u624b\\u6293\\u4f4f\\u4e00\\u6839\\u7ec6\\u957f\\u7684\\u6746\\u5b50\\uff0c\\u8eab\\u4f53\\u60ac\\u7a7a\\u3002\\u4ed6\\u6234\\u7740\\u5934\\u5957\\uff0c\\u7a7f\\u7740\\u9ed1\\u8272\\u7684\\u8863\\u670d\\u548c\\u77ed\\u88e4\\uff0c\\u770b\\u8d77\\u6765\\u5f88\\u5e74\\u8f7b\\u3002\\u5468\\u56f4\\u662f\\u9ad8\\u8038\\u7684\\u5efa\\u7b51\\u548c\\u5bc6\\u96c6\\u7684\\u8857\\u9053\\uff0c\\u8ba9\\u4eba\\u770b\\u4e86\\u4e0d\\u7981\\u4e3a\\u4ed6\\u634f\\u4e00\\u628a\\u6c57\\u3002\",\n          \" \\u56fe\\u4e2d\\u662f\\u4e00\\u4e2a\\u8499\\u9762\\u7537\\u5b50\\uff0c\\u8eab\\u7a7f\\u6df1\\u8272\\u8863\\u670d\\uff0c\\u624b\\u6301\\u4e00\\u628a\\u5200\\uff0c\\u773c\\u795e\\u51f6\\u72e0\\u5730\\u770b\\u7740\\u524d\\u65b9\\uff0c\\u4f3c\\u4e4e\\u968f\\u65f6\\u51c6\\u5907\\u653b\\u51fb\\u3002\\u4ed6\\u53ef\\u80fd\\u662f\\u4e00\\u4e2a\\u7f6a\\u72af\\uff0c\\u4e5f\\u53ef\\u80fd\\u662f\\u4e00\\u4e2a\\u81ea\\u536b\\u7684\\u4eba\\u3002\"\n        ],\n        \"semantic_type\": \"\",\n        \"description\": \"\"\n      }\n    },\n    {\n      \"column\": \"score\",\n      \"properties\": {\n        \"dtype\": \"category\",\n        \"num_unique_values\": 36,\n        \"samples\": [\n          \"\\n {'score': [ 0.05,0.1,0.85]}\\n\",\n          \"\\n {'score': [0.1, 0.2, 0.7]}\",\n          \" {'score': [0.1, 0.1, 0.8]}\"\n        ],\n        \"semantic_type\": \"\",\n        \"description\": \"\"\n      }\n    },\n    {\n      \"column\": \"pic_path\",\n      \"properties\": {\n        \"dtype\": \"string\",\n        \"num_unique_values\": 200,\n        \"samples\": [\n          \"/content/\\u65b0\\u5efa\\u6587\\u4ef6\\u5939/64.jpg\",\n          \"/content/\\u65b0\\u5efa\\u6587\\u4ef6\\u5939/142.jpg\",\n          \"/content/\\u65b0\\u5efa\\u6587\\u4ef6\\u5939/172.jpg\"\n        ],\n        \"semantic_type\": \"\",\n        \"description\": \"\"\n      }\n    },\n    {\n      \"column\": \"vec\",\n      \"properties\": {\n        \"dtype\": \"object\",\n        \"semantic_type\": \"\",\n        \"description\": \"\"\n      }\n    }\n  ]\n}"
            }
          },
          "metadata": {},
          "execution_count": 8
        }
      ]
    },
    {
      "cell_type": "code",
      "source": [
        "# pd_all = pd.read_csv('/content/数据集/data.csv',encoding='gbk').sample(frac=1).reset_index(drop=True)\n",
        "# pd_all['pic_path'] = pd_all['pic'].map(get_pic_name)\n",
        "# pd_all['vec'] = [[0.5,0.1,0.4]]*len(pd_all)\n",
        "# pd_train = pd_all[:160]\n",
        "# pd_test = pd_all[160:]\n",
        "# pd_all"
      ],
      "metadata": {
        "id": "NMWcGKf2lJHb"
      },
      "execution_count": null,
      "outputs": []
    },
    {
      "cell_type": "markdown",
      "source": [
        "## 查看图文特征"
      ],
      "metadata": {
        "id": "z-LhhLXMfZC4"
      }
    },
    {
      "cell_type": "code",
      "source": [
        "\n",
        "eg_pic_path = '/content/新建文件夹/91.jpg'\n",
        "# eg_pic_path = img_dir + '16_05_01_100.jpg'\n",
        "# 打开图像并加载\n",
        "img = Image.open(eg_pic_path)\n",
        "# 显示图像\n",
        "img"
      ],
      "metadata": {
        "id": "Y-DAC9PqfZC5",
        "colab": {
          "base_uri": "https://localhost:8080/",
          "height": 197
        },
        "outputId": "2c7de761-6a60-41c7-ff92-fc74287a25ae"
      },
      "execution_count": null,
      "outputs": [
        {
          "output_type": "execute_result",
          "data": {
            "text/plain": [
              "<PIL.JpegImagePlugin.JpegImageFile image mode=RGB size=289x180>"
            ],
            "image/png": "[encoded data removed]",
            "image/jpeg": "[encoded data removed]"
          },
          "metadata": {},
          "execution_count": 10
        }
      ]
    },
    {
      "cell_type": "code",
      "source": [
        "def get_len(item):\n",
        "  sen_len = len(item.split(' '))\n",
        "  return sen_len"
      ],
      "metadata": {
        "id": "QLqrxaebfZC5"
      },
      "execution_count": null,
      "outputs": []
    },
    {
      "cell_type": "code",
      "source": [
        "pd_train['len'] = pd_train['text'].map(len)\n",
        "pd_test['len'] = pd_test['text'].map(len)\n",
        "pd_train"
      ],
      "metadata": {
        "colab": {
          "base_uri": "https://localhost:8080/",
          "height": 996
        },
        "outputId": "b009d97e-1b16-429c-b5c3-71d5241cb11c",
        "id": "EZYp44kifZC5"
      },
      "execution_count": null,
      "outputs": [
        {
          "output_type": "stream",
          "name": "stderr",
          "text": [
            "<ipython-input-12-32410a0d91ca>:1: SettingWithCopyWarning: \n",
            "A value is trying to be set on a copy of a slice from a DataFrame.\n",
            "Try using .loc[row_indexer,col_indexer] = value instead\n",
            "\n",
            "See the caveats in the documentation: https://pandas.pydata.org/pandas-docs/stable/user_guide/indexing.html#returning-a-view-versus-a-copy\n",
            "  pd_train['len'] = pd_train['text'].map(len)\n",
            "<ipython-input-12-32410a0d91ca>:2: SettingWithCopyWarning: \n",
            "A value is trying to be set on a copy of a slice from a DataFrame.\n",
            "Try using .loc[row_indexer,col_indexer] = value instead\n",
            "\n",
            "See the caveats in the documentation: https://pandas.pydata.org/pandas-docs/stable/user_guide/indexing.html#returning-a-view-versus-a-copy\n",
            "  pd_test['len'] = pd_test['text'].map(len)\n"
          ]
        },
        {
          "output_type": "execute_result",
          "data": {
            "text/plain": [
              "     Unnamed: 0               pic  label  \\\n",
              "0            39   /content/39.jpg      0   \n",
              "1            98   /content/98.jpg      1   \n",
              "2            74   /content/74.jpg      1   \n",
              "3            14   /content/14.jpg      0   \n",
              "4           185  /content/185.jpg      3   \n",
              "..          ...               ...    ...   \n",
              "155           4    /content/4.jpg      0   \n",
              "156          57   /content/57.jpg      1   \n",
              "157         114  /content/114.jpg      2   \n",
              "158          54   /content/54.jpg      1   \n",
              "159         181  /content/181.jpg      3   \n",
              "\n",
              "                                                  text  \\\n",
              "0     一群抗议者在美国密歇根州议会大厦外手持枪支举行抗议活动。抗议者们反对该州的封锁措施，并要求...   \n",
              "1     图片中，一个男人背对着我们，手里握着一把刀。他穿着一件黑色的T恤衫，刀子插在他的后背上，刀...   \n",
              "2     图片显示了三个青少年，其中两个男孩和一个女孩。男孩们穿着连帽衫，女孩穿着一件绿色的夹克衫。...   \n",
              "3     金发碧眼的女孩身穿黑色夹克，手持双枪，表情严肃地看着前方。她的双手交叉握住枪柄，枪口朝下。...   \n",
              "4     这是一辆芝加哥警局的警车，在执行任务时与一辆黑色轿车相撞，导致警车严重损坏。从图片中可以看...   \n",
              "..                                                 ...   \n",
              "155   这是一张以色列士兵的作战图片。画面中，两名士兵在一堵墙后面隐蔽着，其中一名士兵探出头，用枪...   \n",
              "156   图中两个人蒙面，手持武士刀。他们穿着黑色的衣服，戴着黑色的面罩，只露出眼睛和嘴巴。他们站在...   \n",
              "157   一个身穿绿色上衣和黑色裤子的女子坐在一栋楼的顶楼边缘，她的双脚悬空，身体向后仰，似乎随时都...   \n",
              "158     图片中，一只手握着一把刀，刀尖朝向前方。拿刀的手的虎口对着镜头，刀柄在手掌握着的部分有反光。   \n",
              "159   图中展示了两辆汽车相撞的场景。一辆白色的汽车飞了起来，另一辆绿色的汽车被压在下面。汽车的零...   \n",
              "\n",
              "                               score                pic_path              vec  \\\n",
              "0         {'score': [0.1, 0.3, 0.6]}   /content/新建文件夹/39.jpg  [0.1, 0.3, 0.6]   \n",
              "1         {'score': [0.1, 0.2, 0.7]}   /content/新建文件夹/98.jpg  [0.1, 0.2, 0.7]   \n",
              "2           {'score': [0.1,0.7,0.2]}   /content/新建文件夹/74.jpg  [0.1, 0.7, 0.2]   \n",
              "3         {'score': [0.1, 0.7, 0.2]}   /content/新建文件夹/14.jpg  [0.1, 0.7, 0.2]   \n",
              "4         {'score': [0.1, 0.2, 0.7]}  /content/新建文件夹/185.jpg  [0.1, 0.2, 0.7]   \n",
              "..                               ...                     ...              ...   \n",
              "155       {'score': [0.1, 0.2, 0.7]}    /content/新建文件夹/4.jpg  [0.1, 0.2, 0.7]   \n",
              "156       {'score': [0.1, 0.7, 0.2]}   /content/新建文件夹/57.jpg  [0.1, 0.7, 0.2]   \n",
              "157       {'score': [0.1, 0.1, 0.8]}  /content/新建文件夹/114.jpg  [0.1, 0.1, 0.8]   \n",
              "158       {'score': [0.1, 0.2, 0.7]}   /content/新建文件夹/54.jpg  [0.1, 0.2, 0.7]   \n",
              "159  \\n {'score': [0.1, 0.3, 0.6]}\\n  /content/新建文件夹/181.jpg  [0.1, 0.3, 0.6]   \n",
              "\n",
              "     len  \n",
              "0     53  \n",
              "1     52  \n",
              "2     96  \n",
              "3     73  \n",
              "4    102  \n",
              "..   ...  \n",
              "155  109  \n",
              "156   59  \n",
              "157   53  \n",
              "158   47  \n",
              "159   60  \n",
              "\n",
              "[160 rows x 8 columns]"
            ],
            "text/html": [
              "\n",
              "  <div id=\"df-ad3acf2a-64ba-4cfb-b14f-1b8eec748ee2\" class=\"colab-df-container\">\n",
              "    <div>\n",
              "<style scoped>\n",
              "    .dataframe tbody tr th:only-of-type {\n",
              "        vertical-align: middle;\n",
              "    }\n",
              "\n",
              "    .dataframe tbody tr th {\n",
              "        vertical-align: top;\n",
              "    }\n",
              "\n",
              "    .dataframe thead th {\n",
              "        text-align: right;\n",
              "    }\n",
              "</style>\n",
              "<table border=\"1\" class=\"dataframe\">\n",
              "  <thead>\n",
              "    <tr style=\"text-align: right;\">\n",
              "      <th></th>\n",
              "      <th>Unnamed: 0</th>\n",
              "      <th>pic</th>\n",
              "      <th>label</th>\n",
              "      <th>text</th>\n",
              "      <th>score</th>\n",
              "      <th>pic_path</th>\n",
              "      <th>vec</th>\n",
              "      <th>len</th>\n",
              "    </tr>\n",
              "  </thead>\n",
              "  <tbody>\n",
              "    <tr>\n",
              "      <th>0</th>\n",
              "      <td>39</td>\n",
              "      <td>/content/39.jpg</td>\n",
              "      <td>0</td>\n",
              "      <td>一群抗议者在美国密歇根州议会大厦外手持枪支举行抗议活动。抗议者们反对该州的封锁措施，并要求...</td>\n",
              "      <td>{'score': [0.1, 0.3, 0.6]}</td>\n",
              "      <td>/content/新建文件夹/39.jpg</td>\n",
              "      <td>[0.1, 0.3, 0.6]</td>\n",
              "      <td>53</td>\n",
              "    </tr>\n",
              "    <tr>\n",
              "      <th>1</th>\n",
              "      <td>98</td>\n",
              "      <td>/content/98.jpg</td>\n",
              "      <td>1</td>\n",
              "      <td>图片中，一个男人背对着我们，手里握着一把刀。他穿着一件黑色的T恤衫，刀子插在他的后背上，刀...</td>\n",
              "      <td>{'score': [0.1, 0.2, 0.7]}</td>\n",
              "      <td>/content/新建文件夹/98.jpg</td>\n",
              "      <td>[0.1, 0.2, 0.7]</td>\n",
              "      <td>52</td>\n",
              "    </tr>\n",
              "    <tr>\n",
              "      <th>2</th>\n",
              "      <td>74</td>\n",
              "      <td>/content/74.jpg</td>\n",
              "      <td>1</td>\n",
              "      <td>图片显示了三个青少年，其中两个男孩和一个女孩。男孩们穿着连帽衫，女孩穿着一件绿色的夹克衫。...</td>\n",
              "      <td>{'score': [0.1,0.7,0.2]}</td>\n",
              "      <td>/content/新建文件夹/74.jpg</td>\n",
              "      <td>[0.1, 0.7, 0.2]</td>\n",
              "      <td>96</td>\n",
              "    </tr>\n",
              "    <tr>\n",
              "      <th>3</th>\n",
              "      <td>14</td>\n",
              "      <td>/content/14.jpg</td>\n",
              "      <td>0</td>\n",
              "      <td>金发碧眼的女孩身穿黑色夹克，手持双枪，表情严肃地看着前方。她的双手交叉握住枪柄，枪口朝下。...</td>\n",
              "      <td>{'score': [0.1, 0.7, 0.2]}</td>\n",
              "      <td>/content/新建文件夹/14.jpg</td>\n",
              "      <td>[0.1, 0.7, 0.2]</td>\n",
              "      <td>73</td>\n",
              "    </tr>\n",
              "    <tr>\n",
              "      <th>4</th>\n",
              "      <td>185</td>\n",
              "      <td>/content/185.jpg</td>\n",
              "      <td>3</td>\n",
              "      <td>这是一辆芝加哥警局的警车，在执行任务时与一辆黑色轿车相撞，导致警车严重损坏。从图片中可以看...</td>\n",
              "      <td>{'score': [0.1, 0.2, 0.7]}</td>\n",
              "      <td>/content/新建文件夹/185.jpg</td>\n",
              "      <td>[0.1, 0.2, 0.7]</td>\n",
              "      <td>102</td>\n",
              "    </tr>\n",
              "    <tr>\n",
              "      <th>...</th>\n",
              "      <td>...</td>\n",
              "      <td>...</td>\n",
              "      <td>...</td>\n",
              "      <td>...</td>\n",
              "      <td>...</td>\n",
              "      <td>...</td>\n",
              "      <td>...</td>\n",
              "      <td>...</td>\n",
              "    </tr>\n",
              "    <tr>\n",
              "      <th>155</th>\n",
              "      <td>4</td>\n",
              "      <td>/content/4.jpg</td>\n",
              "      <td>0</td>\n",
              "      <td>这是一张以色列士兵的作战图片。画面中，两名士兵在一堵墙后面隐蔽着，其中一名士兵探出头，用枪...</td>\n",
              "      <td>{'score': [0.1, 0.2, 0.7]}</td>\n",
              "      <td>/content/新建文件夹/4.jpg</td>\n",
              "      <td>[0.1, 0.2, 0.7]</td>\n",
              "      <td>109</td>\n",
              "    </tr>\n",
              "    <tr>\n",
              "      <th>156</th>\n",
              "      <td>57</td>\n",
              "      <td>/content/57.jpg</td>\n",
              "      <td>1</td>\n",
              "      <td>图中两个人蒙面，手持武士刀。他们穿着黑色的衣服，戴着黑色的面罩，只露出眼睛和嘴巴。他们站在...</td>\n",
              "      <td>{'score': [0.1, 0.7, 0.2]}</td>\n",
              "      <td>/content/新建文件夹/57.jpg</td>\n",
              "      <td>[0.1, 0.7, 0.2]</td>\n",
              "      <td>59</td>\n",
              "    </tr>\n",
              "    <tr>\n",
              "      <th>157</th>\n",
              "      <td>114</td>\n",
              "      <td>/content/114.jpg</td>\n",
              "      <td>2</td>\n",
              "      <td>一个身穿绿色上衣和黑色裤子的女子坐在一栋楼的顶楼边缘，她的双脚悬空，身体向后仰，似乎随时都...</td>\n",
              "      <td>{'score': [0.1, 0.1, 0.8]}</td>\n",
              "      <td>/content/新建文件夹/114.jpg</td>\n",
              "      <td>[0.1, 0.1, 0.8]</td>\n",
              "      <td>53</td>\n",
              "    </tr>\n",
              "    <tr>\n",
              "      <th>158</th>\n",
              "      <td>54</td>\n",
              "      <td>/content/54.jpg</td>\n",
              "      <td>1</td>\n",
              "      <td>图片中，一只手握着一把刀，刀尖朝向前方。拿刀的手的虎口对着镜头，刀柄在手掌握着的部分有反光。</td>\n",
              "      <td>{'score': [0.1, 0.2, 0.7]}</td>\n",
              "      <td>/content/新建文件夹/54.jpg</td>\n",
              "      <td>[0.1, 0.2, 0.7]</td>\n",
              "      <td>47</td>\n",
              "    </tr>\n",
              "    <tr>\n",
              "      <th>159</th>\n",
              "      <td>181</td>\n",
              "      <td>/content/181.jpg</td>\n",
              "      <td>3</td>\n",
              "      <td>图中展示了两辆汽车相撞的场景。一辆白色的汽车飞了起来，另一辆绿色的汽车被压在下面。汽车的零...</td>\n",
              "      <td>\\n {'score': [0.1, 0.3, 0.6]}\\n</td>\n",
              "      <td>/content/新建文件夹/181.jpg</td>\n",
              "      <td>[0.1, 0.3, 0.6]</td>\n",
              "      <td>60</td>\n",
              "    </tr>\n",
              "  </tbody>\n",
              "</table>\n",
              "<p>160 rows × 8 columns</p>\n",
              "</div>\n",
              "    <div class=\"colab-df-buttons\">\n",
              "\n",
              "  <div class=\"colab-df-container\">\n",
              "    <button class=\"colab-df-convert\" onclick=\"convertToInteractive('df-ad3acf2a-64ba-4cfb-b14f-1b8eec748ee2')\"\n",
              "            title=\"Convert this dataframe to an interactive table.\"\n",
              "            style=\"display:none;\">\n",
              "\n",
              "  <svg xmlns=\"http://www.w3.org/2000/svg\" height=\"24px\" viewBox=\"0 -960 960 960\">\n",
              "    <path d=\"M120-120v-720h720v720H120Zm60-500h600v-160H180v160Zm220 220h160v-160H400v160Zm0 220h160v-160H400v160ZM180-400h160v-160H180v160Zm440 0h160v-160H620v160ZM180-180h160v-160H180v160Zm440 0h160v-160H620v160Z\"/>\n",
              "  </svg>\n",
              "    </button>\n",
              "\n",
              "  <style>\n",
              "    .colab-df-container {\n",
              "      display:flex;\n",
              "      gap: 12px;\n",
              "    }\n",
              "\n",
              "    .colab-df-convert {\n",
              "      background-color: #E8F0FE;\n",
              "      border: none;\n",
              "      border-radius: 50%;\n",
              "      cursor: pointer;\n",
              "      display: none;\n",
              "      fill: #1967D2;\n",
              "      height: 32px;\n",
              "      padding: 0 0 0 0;\n",
              "      width: 32px;\n",
              "    }\n",
              "\n",
              "    .colab-df-convert:hover {\n",
              "      background-color: #E2EBFA;\n",
              "      box-shadow: 0px 1px 2px rgba(60, 64, 67, 0.3), 0px 1px 3px 1px rgba(60, 64, 67, 0.15);\n",
              "      fill: #174EA6;\n",
              "    }\n",
              "\n",
              "    .colab-df-buttons div {\n",
              "      margin-bottom: 4px;\n",
              "    }\n",
              "\n",
              "    [theme=dark] .colab-df-convert {\n",
              "      background-color: #3B4455;\n",
              "      fill: #D2E3FC;\n",
              "    }\n",
              "\n",
              "    [theme=dark] .colab-df-convert:hover {\n",
              "      background-color: #434B5C;\n",
              "      box-shadow: 0px 1px 3px 1px rgba(0, 0, 0, 0.15);\n",
              "      filter: drop-shadow(0px 1px 2px rgba(0, 0, 0, 0.3));\n",
              "      fill: #FFFFFF;\n",
              "    }\n",
              "  </style>\n",
              "\n",
              "    <script>\n",
              "      const buttonEl =\n",
              "        document.querySelector('#df-ad3acf2a-64ba-4cfb-b14f-1b8eec748ee2 button.colab-df-convert');\n",
              "      buttonEl.style.display =\n",
              "        google.colab.kernel.accessAllowed ? 'block' : 'none';\n",
              "\n",
              "      async function convertToInteractive(key) {\n",
              "        const element = document.querySelector('#df-ad3acf2a-64ba-4cfb-b14f-1b8eec748ee2');\n",
              "        const dataTable =\n",
              "          await google.colab.kernel.invokeFunction('convertToInteractive',\n",
              "                                                    [key], {});\n",
              "        if (!dataTable) return;\n",
              "\n",
              "        const docLinkHtml = 'Like what you see? Visit the ' +\n",
              "          '<a target=\"_blank\" href=https://colab.research.google.com/notebooks/data_table.ipynb>data table notebook</a>'\n",
              "          + ' to learn more about interactive tables.';\n",
              "        element.innerHTML = '';\n",
              "        dataTable['output_type'] = 'display_data';\n",
              "        await google.colab.output.renderOutput(dataTable, element);\n",
              "        const docLink = document.createElement('div');\n",
              "        docLink.innerHTML = docLinkHtml;\n",
              "        element.appendChild(docLink);\n",
              "      }\n",
              "    </script>\n",
              "  </div>\n",
              "\n",
              "\n",
              "    <div id=\"df-29e18118-80c4-446d-97d4-9f5652ac72cc\">\n",
              "      <button class=\"colab-df-quickchart\" onclick=\"quickchart('df-29e18118-80c4-446d-97d4-9f5652ac72cc')\"\n",
              "                title=\"Suggest charts\"\n",
              "                style=\"display:none;\">\n",
              "\n",
              "<svg xmlns=\"http://www.w3.org/2000/svg\" height=\"24px\"viewBox=\"0 0 24 24\"\n",
              "     width=\"24px\">\n",
              "    <g>\n",
              "        <path d=\"M19 3H5c-1.1 0-2 .9-2 2v14c0 1.1.9 2 2 2h14c1.1 0 2-.9 2-2V5c0-1.1-.9-2-2-2zM9 17H7v-7h2v7zm4 0h-2V7h2v10zm4 0h-2v-4h2v4z\"/>\n",
              "    </g>\n",
              "</svg>\n",
              "      </button>\n",
              "\n",
              "<style>\n",
              "  .colab-df-quickchart {\n",
              "      --bg-color: #E8F0FE;\n",
              "      --fill-color: #1967D2;\n",
              "      --hover-bg-color: #E2EBFA;\n",
              "      --hover-fill-color: #174EA6;\n",
              "      --disabled-fill-color: #AAA;\n",
              "      --disabled-bg-color: #DDD;\n",
              "  }\n",
              "\n",
              "  [theme=dark] .colab-df-quickchart {\n",
              "      --bg-color: #3B4455;\n",
              "      --fill-color: #D2E3FC;\n",
              "      --hover-bg-color: #434B5C;\n",
              "      --hover-fill-color: #FFFFFF;\n",
              "      --disabled-bg-color: #3B4455;\n",
              "      --disabled-fill-color: #666;\n",
              "  }\n",
              "\n",
              "  .colab-df-quickchart {\n",
              "    background-color: var(--bg-color);\n",
              "    border: none;\n",
              "    border-radius: 50%;\n",
              "    cursor: pointer;\n",
              "    display: none;\n",
              "    fill: var(--fill-color);\n",
              "    height: 32px;\n",
              "    padding: 0;\n",
              "    width: 32px;\n",
              "  }\n",
              "\n",
              "  .colab-df-quickchart:hover {\n",
              "    background-color: var(--hover-bg-color);\n",
              "    box-shadow: 0 1px 2px rgba(60, 64, 67, 0.3), 0 1px 3px 1px rgba(60, 64, 67, 0.15);\n",
              "    fill: var(--button-hover-fill-color);\n",
              "  }\n",
              "\n",
              "  .colab-df-quickchart-complete:disabled,\n",
              "  .colab-df-quickchart-complete:disabled:hover {\n",
              "    background-color: var(--disabled-bg-color);\n",
              "    fill: var(--disabled-fill-color);\n",
              "    box-shadow: none;\n",
              "  }\n",
              "\n",
              "  .colab-df-spinner {\n",
              "    border: 2px solid var(--fill-color);\n",
              "    border-color: transparent;\n",
              "    border-bottom-color: var(--fill-color);\n",
              "    animation:\n",
              "      spin 1s steps(1) infinite;\n",
              "  }\n",
              "\n",
              "  @keyframes spin {\n",
              "    0% {\n",
              "      border-color: transparent;\n",
              "      border-bottom-color: var(--fill-color);\n",
              "      border-left-color: var(--fill-color);\n",
              "    }\n",
              "    20% {\n",
              "      border-color: transparent;\n",
              "      border-left-color: var(--fill-color);\n",
              "      border-top-color: var(--fill-color);\n",
              "    }\n",
              "    30% {\n",
              "      border-color: transparent;\n",
              "      border-left-color: var(--fill-color);\n",
              "      border-top-color: var(--fill-color);\n",
              "      border-right-color: var(--fill-color);\n",
              "    }\n",
              "    40% {\n",
              "      border-color: transparent;\n",
              "      border-right-color: var(--fill-color);\n",
              "      border-top-color: var(--fill-color);\n",
              "    }\n",
              "    60% {\n",
              "      border-color: transparent;\n",
              "      border-right-color: var(--fill-color);\n",
              "    }\n",
              "    80% {\n",
              "      border-color: transparent;\n",
              "      border-right-color: var(--fill-color);\n",
              "      border-bottom-color: var(--fill-color);\n",
              "    }\n",
              "    90% {\n",
              "      border-color: transparent;\n",
              "      border-bottom-color: var(--fill-color);\n",
              "    }\n",
              "  }\n",
              "</style>\n",
              "\n",
              "      <script>\n",
              "        async function quickchart(key) {\n",
              "          const quickchartButtonEl =\n",
              "            document.querySelector('#' + key + ' button');\n",
              "          quickchartButtonEl.disabled = true;  // To prevent multiple clicks.\n",
              "          quickchartButtonEl.classList.add('colab-df-spinner');\n",
              "          try {\n",
              "            const charts = await google.colab.kernel.invokeFunction(\n",
              "                'suggestCharts', [key], {});\n",
              "          } catch (error) {\n",
              "            console.error('Error during call to suggestCharts:', error);\n",
              "          }\n",
              "          quickchartButtonEl.classList.remove('colab-df-spinner');\n",
              "          quickchartButtonEl.classList.add('colab-df-quickchart-complete');\n",
              "        }\n",
              "        (() => {\n",
              "          let quickchartButtonEl =\n",
              "            document.querySelector('#df-29e18118-80c4-446d-97d4-9f5652ac72cc button');\n",
              "          quickchartButtonEl.style.display =\n",
              "            google.colab.kernel.accessAllowed ? 'block' : 'none';\n",
              "        })();\n",
              "      </script>\n",
              "    </div>\n",
              "\n",
              "  <div id=\"id_151a3a1b-2bc7-47ad-8272-2990c21f33f5\">\n",
              "    <style>\n",
              "      .colab-df-generate {\n",
              "        background-color: #E8F0FE;\n",
              "        border: none;\n",
              "        border-radius: 50%;\n",
              "        cursor: pointer;\n",
              "        display: none;\n",
              "        fill: #1967D2;\n",
              "        height: 32px;\n",
              "        padding: 0 0 0 0;\n",
              "        width: 32px;\n",
              "      }\n",
              "\n",
              "      .colab-df-generate:hover {\n",
              "        background-color: #E2EBFA;\n",
              "        box-shadow: 0px 1px 2px rgba(60, 64, 67, 0.3), 0px 1px 3px 1px rgba(60, 64, 67, 0.15);\n",
              "        fill: #174EA6;\n",
              "      }\n",
              "\n",
              "      [theme=dark] .colab-df-generate {\n",
              "        background-color: #3B4455;\n",
              "        fill: #D2E3FC;\n",
              "      }\n",
              "\n",
              "      [theme=dark] .colab-df-generate:hover {\n",
              "        background-color: #434B5C;\n",
              "        box-shadow: 0px 1px 3px 1px rgba(0, 0, 0, 0.15);\n",
              "        filter: drop-shadow(0px 1px 2px rgba(0, 0, 0, 0.3));\n",
              "        fill: #FFFFFF;\n",
              "      }\n",
              "    </style>\n",
              "    <button class=\"colab-df-generate\" onclick=\"generateWithVariable('pd_train')\"\n",
              "            title=\"Generate code using this dataframe.\"\n",
              "            style=\"display:none;\">\n",
              "\n",
              "  <svg xmlns=\"http://www.w3.org/2000/svg\" height=\"24px\"viewBox=\"0 0 24 24\"\n",
              "       width=\"24px\">\n",
              "    <path d=\"M7,19H8.4L18.45,9,17,7.55,7,17.6ZM5,21V16.75L18.45,3.32a2,2,0,0,1,2.83,0l1.4,1.43a1.91,1.91,0,0,1,.58,1.4,1.91,1.91,0,0,1-.58,1.4L9.25,21ZM18.45,9,17,7.55Zm-12,3A5.31,5.31,0,0,0,4.9,8.1,5.31,5.31,0,0,0,1,6.5,5.31,5.31,0,0,0,4.9,4.9,5.31,5.31,0,0,0,6.5,1,5.31,5.31,0,0,0,8.1,4.9,5.31,5.31,0,0,0,12,6.5,5.46,5.46,0,0,0,6.5,12Z\"/>\n",
              "  </svg>\n",
              "    </button>\n",
              "    <script>\n",
              "      (() => {\n",
              "      const buttonEl =\n",
              "        document.querySelector('#id_151a3a1b-2bc7-47ad-8272-2990c21f33f5 button.colab-df-generate');\n",
              "      buttonEl.style.display =\n",
              "        google.colab.kernel.accessAllowed ? 'block' : 'none';\n",
              "\n",
              "      buttonEl.onclick = () => {\n",
              "        google.colab.notebook.generateWithVariable('pd_train');\n",
              "      }\n",
              "      })();\n",
              "    </script>\n",
              "  </div>\n",
              "\n",
              "    </div>\n",
              "  </div>\n"
            ],
            "application/vnd.google.colaboratory.intrinsic+json": {
              "type": "dataframe",
              "variable_name": "pd_train",
              "summary": "{\n  \"name\": \"pd_train\",\n  \"rows\": 160,\n  \"fields\": [\n    {\n      \"column\": \"Unnamed: 0\",\n      \"properties\": {\n        \"dtype\": \"number\",\n        \"std\": 57,\n        \"min\": 1,\n        \"max\": 200,\n        \"num_unique_values\": 160,\n        \"samples\": [\n          188,\n          111,\n          198\n        ],\n        \"semantic_type\": \"\",\n        \"description\": \"\"\n      }\n    },\n    {\n      \"column\": \"pic\",\n      \"properties\": {\n        \"dtype\": \"string\",\n        \"num_unique_values\": 160,\n        \"samples\": [\n          \"/content/188.jpg\",\n          \"/content/111.jpg\",\n          \"/content/198.jpg\"\n        ],\n        \"semantic_type\": \"\",\n        \"description\": \"\"\n      }\n    },\n    {\n      \"column\": \"label\",\n      \"properties\": {\n        \"dtype\": \"number\",\n        \"std\": 1,\n        \"min\": 0,\n        \"max\": 3,\n        \"num_unique_values\": 4,\n        \"samples\": [\n          1,\n          2,\n          0\n        ],\n        \"semantic_type\": \"\",\n        \"description\": \"\"\n      }\n    },\n    {\n      \"column\": \"text\",\n      \"properties\": {\n        \"dtype\": \"string\",\n        \"num_unique_values\": 160,\n        \"samples\": [\n          \" \\u8fd9\\u662f\\u4e00\\u8f86\\u88ab\\u4e25\\u91cd\\u635f\\u574f\\u7684\\u9ed1\\u8272\\u67ef\\u5c3c\\u585e\\u683cOne:1\\u8dd1\\u8f66\\u3002\\u5b83\\u7684\\u524d\\u90e8\\u51e0\\u4e4e\\u5b8c\\u5168\\u88ab\\u6bc1\\uff0c\\u53ef\\u4ee5\\u770b\\u5230\\u53d1\\u52a8\\u673a\\u548c\\u60ac\\u67b6\\u90e8\\u4ef6\\u3002\\u8f66\\u8eab\\u4fa7\\u9762\\u4e5f\\u6709\\u660e\\u663e\\u7684\\u635f\\u574f\\u3002\\u636e\\u6089\\uff0c\\u8fd9\\u8f86\\u8f66\\u662f\\u5728\\u4e00\\u6b21\\u4e8b\\u6545\\u4e2d\\u649e\\u4e0a\\u4e86\\u62a4\\u680f\\uff0c\\u5bfc\\u81f4\\u8f66\\u8eab\\u4e25\\u91cd\\u53d8\\u5f62\\u3002\",\n          \" \\u4e00\\u540d\\u7537\\u5b50\\u7ad9\\u5728\\u9ad8\\u697c\\u7684\\u9876\\u7aef\\uff0c\\u51c6\\u5907\\u8fdb\\u884c BASE \\u8df3\\u4f1e\\u3002\\u4ed6\\u6234\\u7740\\u5934\\u76d4\\u548c\\u62a4\\u76ee\\u955c\\uff0c\\u8eab\\u7a7f\\u8fde\\u4f53\\u670d\\uff0c\\u80cc\\u7740\\u4e00\\u4e2a\\u964d\\u843d\\u4f1e\\u5305\\u3002\\u4ed6\\u7684\\u53cc\\u81c2\\u5f20\\u5f00\\uff0c\\u8eab\\u4f53\\u5fae\\u5fae\\u524d\\u503e\\uff0c\\u819d\\u76d6\\u5f2f\\u66f2\\uff0c\\u811a\\u5c16\\u70b9\\u5728\\u697c\\u9876\\u7684\\u8fb9\\u7f18\\u3002\\u4ed6\\u6df1\\u5438\\u4e86\\u4e00\\u53e3\\u6c14\\uff0c\\u7136\\u540e\\u7eb5\\u8eab\\u8df3\\u4e0b\\u3002\",\n          \" \\u4e00\\u8f86\\u5927\\u8d27\\u8f66\\u4e0e\\u4e00\\u8f86\\u9762\\u5305\\u8f66\\u5728\\u516c\\u8def\\u4e0a\\u53d1\\u751f\\u4e25\\u91cd\\u78b0\\u649e\\u3002\\u5927\\u8d27\\u8f66\\u8f66\\u5934\\u4e25\\u91cd\\u53d8\\u5f62\\uff0c\\u9762\\u5305\\u8f66\\u8f66\\u8eab\\u591a\\u5904\\u51f9\\u9677\\uff0c\\u635f\\u6bc1\\u4e25\\u91cd\\u3002\\u4e8b\\u6545\\u73b0\\u573a\\u4e00\\u7247\\u72fc\\u85c9\\uff0c\\u5730\\u4e0a\\u6563\\u843d\\u7740\\u6c7d\\u8f66\\u96f6\\u4ef6\\u548c\\u6742\\u7269\\u3002\"\n        ],\n        \"semantic_type\": \"\",\n        \"description\": \"\"\n      }\n    },\n    {\n      \"column\": \"score\",\n      \"properties\": {\n        \"dtype\": \"category\",\n        \"num_unique_values\": 31,\n        \"samples\": [\n          \"\\n {'score': [0.05, 0.95, 0]}\\n\",\n          \" {'score': [0.01, 0.98, 0.01]}\",\n          \"\\n{'score': [0.1, 0.7, 0.2]}\\n```\"\n        ],\n        \"semantic_type\": \"\",\n        \"description\": \"\"\n      }\n    },\n    {\n      \"column\": \"pic_path\",\n      \"properties\": {\n        \"dtype\": \"string\",\n        \"num_unique_values\": 160,\n        \"samples\": [\n          \"/content/\\u65b0\\u5efa\\u6587\\u4ef6\\u5939/188.jpg\",\n          \"/content/\\u65b0\\u5efa\\u6587\\u4ef6\\u5939/111.jpg\",\n          \"/content/\\u65b0\\u5efa\\u6587\\u4ef6\\u5939/198.jpg\"\n        ],\n        \"semantic_type\": \"\",\n        \"description\": \"\"\n      }\n    },\n    {\n      \"column\": \"vec\",\n      \"properties\": {\n        \"dtype\": \"object\",\n        \"semantic_type\": \"\",\n        \"description\": \"\"\n      }\n    },\n    {\n      \"column\": \"len\",\n      \"properties\": {\n        \"dtype\": \"number\",\n        \"std\": 25,\n        \"min\": 13,\n        \"max\": 190,\n        \"num_unique_values\": 75,\n        \"samples\": [\n          102,\n          95,\n          61\n        ],\n        \"semantic_type\": \"\",\n        \"description\": \"\"\n      }\n    }\n  ]\n}"
            }
          },
          "metadata": {},
          "execution_count": 12
        }
      ]
    },
    {
      "cell_type": "code",
      "source": [
        "\n",
        "pd_train['len'].hist()"
      ],
      "metadata": {
        "colab": {
          "base_uri": "https://localhost:8080/",
          "height": 447
        },
        "outputId": "98bf6ffd-461f-4a27-d7f3-68b4563a3bfb",
        "id": "vThcRPNmfZC5"
      },
      "execution_count": null,
      "outputs": [
        {
          "output_type": "execute_result",
          "data": {
            "text/plain": [
              "<Axes: >"
            ]
          },
          "metadata": {},
          "execution_count": 13
        },
        {
          "output_type": "display_data",
          "data": {
            "text/plain": [
              "<Figure size 640x480 with 1 Axes>"
            ],
            "image/png": "[encoded data removed]"
          },
          "metadata": {}
        }
      ]
    },
    {
      "cell_type": "code",
      "source": [
        "pd_train['label'].value_counts()"
      ],
      "metadata": {
        "colab": {
          "base_uri": "https://localhost:8080/",
          "height": 240
        },
        "outputId": "543e5ac8-c0ef-4eaa-851a-0defba46d058",
        "id": "Gsd6y4Z3fZC6"
      },
      "execution_count": null,
      "outputs": [
        {
          "output_type": "execute_result",
          "data": {
            "text/plain": [
              "label\n",
              "0    44\n",
              "1    40\n",
              "2    40\n",
              "3    36\n",
              "Name: count, dtype: int64"
            ],
            "text/html": [
              "<div>\n",
              "<style scoped>\n",
              "    .dataframe tbody tr th:only-of-type {\n",
              "        vertical-align: middle;\n",
              "    }\n",
              "\n",
              "    .dataframe tbody tr th {\n",
              "        vertical-align: top;\n",
              "    }\n",
              "\n",
              "    .dataframe thead th {\n",
              "        text-align: right;\n",
              "    }\n",
              "</style>\n",
              "<table border=\"1\" class=\"dataframe\">\n",
              "  <thead>\n",
              "    <tr style=\"text-align: right;\">\n",
              "      <th></th>\n",
              "      <th>count</th>\n",
              "    </tr>\n",
              "    <tr>\n",
              "      <th>label</th>\n",
              "      <th></th>\n",
              "    </tr>\n",
              "  </thead>\n",
              "  <tbody>\n",
              "    <tr>\n",
              "      <th>0</th>\n",
              "      <td>44</td>\n",
              "    </tr>\n",
              "    <tr>\n",
              "      <th>1</th>\n",
              "      <td>40</td>\n",
              "    </tr>\n",
              "    <tr>\n",
              "      <th>2</th>\n",
              "      <td>40</td>\n",
              "    </tr>\n",
              "    <tr>\n",
              "      <th>3</th>\n",
              "      <td>36</td>\n",
              "    </tr>\n",
              "  </tbody>\n",
              "</table>\n",
              "</div><br><label><b>dtype:</b> int64</label>"
            ]
          },
          "metadata": {},
          "execution_count": 14
        }
      ]
    },
    {
      "cell_type": "code",
      "source": [
        "pd_test['label'].value_counts()"
      ],
      "metadata": {
        "colab": {
          "base_uri": "https://localhost:8080/",
          "height": 240
        },
        "id": "VTSz98czE-zl",
        "outputId": "cd60cd42-da71-44da-803f-9486d7567fdb"
      },
      "execution_count": null,
      "outputs": [
        {
          "output_type": "execute_result",
          "data": {
            "text/plain": [
              "label\n",
              "3    14\n",
              "2    10\n",
              "1    10\n",
              "0     6\n",
              "Name: count, dtype: int64"
            ],
            "text/html": [
              "<div>\n",
              "<style scoped>\n",
              "    .dataframe tbody tr th:only-of-type {\n",
              "        vertical-align: middle;\n",
              "    }\n",
              "\n",
              "    .dataframe tbody tr th {\n",
              "        vertical-align: top;\n",
              "    }\n",
              "\n",
              "    .dataframe thead th {\n",
              "        text-align: right;\n",
              "    }\n",
              "</style>\n",
              "<table border=\"1\" class=\"dataframe\">\n",
              "  <thead>\n",
              "    <tr style=\"text-align: right;\">\n",
              "      <th></th>\n",
              "      <th>count</th>\n",
              "    </tr>\n",
              "    <tr>\n",
              "      <th>label</th>\n",
              "      <th></th>\n",
              "    </tr>\n",
              "  </thead>\n",
              "  <tbody>\n",
              "    <tr>\n",
              "      <th>3</th>\n",
              "      <td>14</td>\n",
              "    </tr>\n",
              "    <tr>\n",
              "      <th>2</th>\n",
              "      <td>10</td>\n",
              "    </tr>\n",
              "    <tr>\n",
              "      <th>1</th>\n",
              "      <td>10</td>\n",
              "    </tr>\n",
              "    <tr>\n",
              "      <th>0</th>\n",
              "      <td>6</td>\n",
              "    </tr>\n",
              "  </tbody>\n",
              "</table>\n",
              "</div><br><label><b>dtype:</b> int64</label>"
            ]
          },
          "metadata": {},
          "execution_count": 15
        }
      ]
    },
    {
      "cell_type": "code",
      "source": [],
      "metadata": {
        "id": "oYiqG6_Lgn5G"
      },
      "execution_count": null,
      "outputs": []
    },
    {
      "cell_type": "markdown",
      "source": [
        "# 确定GPU cpu使用情况"
      ],
      "metadata": {
        "id": "LQk7c5pG0TwM"
      }
    },
    {
      "cell_type": "code",
      "source": [
        "# Get cpu or gpu device for training.\n",
        "device = \"cuda\" if torch.cuda.is_available() else \"mps\" if torch.backends.mps.is_available() else \"cpu\"\n",
        "print(f\"Using {device} device\")"
      ],
      "metadata": {
        "colab": {
          "base_uri": "https://localhost:8080/"
        },
        "id": "jcF2VKkF0XBk",
        "outputId": "ae638fbb-8574-4baa-995a-f27b7619b3ca"
      },
      "execution_count": null,
      "outputs": [
        {
          "output_type": "stream",
          "name": "stdout",
          "text": [
            "Using cuda device\n"
          ]
        }
      ]
    },
    {
      "cell_type": "code",
      "source": [],
      "metadata": {
        "id": "mP-E8UbojVoi"
      },
      "execution_count": null,
      "outputs": []
    },
    {
      "cell_type": "code",
      "source": [],
      "metadata": {
        "id": "SvPNhbwbqUCa"
      },
      "execution_count": null,
      "outputs": []
    },
    {
      "cell_type": "code",
      "source": [],
      "metadata": {
        "id": "9bgJF5XtHK-b"
      },
      "execution_count": null,
      "outputs": []
    },
    {
      "cell_type": "markdown",
      "source": [
        "# 数据处理pipline"
      ],
      "metadata": {
        "id": "P1C3e0PNAcMW"
      }
    },
    {
      "cell_type": "markdown",
      "source": [
        "### 准备dataset"
      ],
      "metadata": {
        "id": "szgjyjVpqUCb"
      }
    },
    {
      "cell_type": "code",
      "source": [
        "class CustomDataset(Dataset):\n",
        "    def __init__(self, pd_data):\n",
        "        self.pd_data = pd_data\n",
        "        self.text_list = list(pd_data['text'])\n",
        "        self.label_list = list(pd_data['label'])\n",
        "        self.img_path_list = list(pd_data['pic_path'])\n",
        "        self.vec_lists = list(pd_data['vec'])\n",
        "\n",
        "\n",
        "    def __len__(self):\n",
        "        return len(self.pd_data)\n",
        "\n",
        "    def __getitem__(self, idx):\n",
        "\n",
        "        # 图像数据处理\n",
        "        one_path = self.img_path_list[idx]\n",
        "        # one_path = img_dir + one_path\n",
        "        img_tensor = read_image(one_path,mode=torchvision.io.ImageReadMode.RGB)\n",
        "        img_tensor = transforms.Resize((224,224))(img_tensor).float()\n",
        "\n",
        "\n",
        "        # label数据处理\n",
        "        one_label = self.label_list[idx]\n",
        "        one_label = torch.tensor(one_label).long()\n",
        "        return img_tensor,  one_label\n",
        "\n",
        "\n",
        "tran_ds = CustomDataset(pd_train[:train_num])\n",
        "test_ds = CustomDataset(pd_test[:test_num])\n",
        "\n",
        "tran_ds[1][0].shape,tran_ds[1][1].shape,len(tran_ds),len(test_ds)"
      ],
      "metadata": {
        "colab": {
          "base_uri": "https://localhost:8080/"
        },
        "outputId": "0d5881b1-6740-48de-e2ff-d71db4db9a37",
        "id": "ppw3Mg4cqUCb"
      },
      "execution_count": null,
      "outputs": [
        {
          "output_type": "execute_result",
          "data": {
            "text/plain": [
              "(torch.Size([3, 224, 224]), torch.Size([]), 160, 40)"
            ]
          },
          "metadata": {},
          "execution_count": 17
        }
      ]
    },
    {
      "cell_type": "code",
      "source": [],
      "metadata": {
        "id": "OE1zlfTjq758"
      },
      "execution_count": null,
      "outputs": []
    },
    {
      "cell_type": "code",
      "source": [],
      "metadata": {
        "id": "YpzrYpDOBJ5e"
      },
      "execution_count": null,
      "outputs": []
    },
    {
      "cell_type": "markdown",
      "source": [
        "## 生成dataloader"
      ],
      "metadata": {
        "id": "vejRJByOAhwY"
      }
    },
    {
      "cell_type": "code",
      "source": [
        "train_dataloader = DataLoader(tran_ds, batch_size=8, shuffle=True,num_workers=2)\n",
        "test_dataloader = DataLoader(test_ds, batch_size=8, shuffle=False,num_workers=2)"
      ],
      "metadata": {
        "id": "YvSv8mfyAZbO"
      },
      "execution_count": null,
      "outputs": []
    },
    {
      "cell_type": "code",
      "source": [
        "# Display image and label.\n",
        "b_img_rgb, train_labels = next(iter(train_dataloader))\n",
        "print(f\"b_img_rgb batch shape: {b_img_rgb.size()}\")\n",
        "print(f\"train_labels batch shape: {train_labels.size()}\")\n"
      ],
      "metadata": {
        "colab": {
          "base_uri": "https://localhost:8080/"
        },
        "id": "EsTjdFitAnsv",
        "outputId": "5833bf35-b6f8-4c40-b2ec-f7e0dff10f39"
      },
      "execution_count": null,
      "outputs": [
        {
          "output_type": "stream",
          "name": "stdout",
          "text": [
            "b_img_rgb batch shape: torch.Size([8, 3, 224, 224])\n",
            "train_labels batch shape: torch.Size([8])\n"
          ]
        }
      ]
    },
    {
      "cell_type": "code",
      "source": [
        "train_labels"
      ],
      "metadata": {
        "id": "37gqO-HCA9oe",
        "colab": {
          "base_uri": "https://localhost:8080/"
        },
        "outputId": "245fde76-7a2c-4a68-a40a-61244a236b27"
      },
      "execution_count": null,
      "outputs": [
        {
          "output_type": "execute_result",
          "data": {
            "text/plain": [
              "tensor([2, 1, 0, 0, 3, 1, 1, 3])"
            ]
          },
          "metadata": {},
          "execution_count": 20
        }
      ]
    },
    {
      "cell_type": "code",
      "source": [],
      "metadata": {
        "id": "mmU8lENyHLBc"
      },
      "execution_count": null,
      "outputs": []
    },
    {
      "cell_type": "code",
      "source": [],
      "metadata": {
        "id": "coDccefVLk8i"
      },
      "execution_count": null,
      "outputs": []
    },
    {
      "cell_type": "code",
      "source": [
        "# Adam(params, lr=0.001"
      ],
      "metadata": {
        "id": "WvgoRoFbf1HK"
      },
      "execution_count": null,
      "outputs": []
    },
    {
      "cell_type": "markdown",
      "source": [
        "# 训练和评估循环"
      ],
      "metadata": {
        "id": "uFFEwaDsw5yV"
      }
    },
    {
      "cell_type": "code",
      "source": [
        "def train(dataloader, model, loss_fn, optimizer):\n",
        "    size = len(dataloader.dataset)\n",
        "    model.train()\n",
        "    for batch, (img_rgb, y) in enumerate(dataloader):\n",
        "        # X, y = X.to(device), y.to(device)\n",
        "        img_rgb = img_rgb.to(device)\n",
        "\n",
        "        y = y.to(device)\n",
        "\n",
        "        # Compute prediction error\n",
        "        pred = model(img_rgb)\n",
        "        loss = loss_fn(pred, y)\n",
        "\n",
        "        # Backpropagation\n",
        "        optimizer.zero_grad()\n",
        "        loss.backward()\n",
        "        optimizer.step()\n",
        "\n",
        "        if batch % 50 == 0:\n",
        "            loss, current = loss.item(), batch * len(img_rgb)\n",
        "            print(f\"loss: {loss:>7f}  [{current:>5d}/{size:>5d}]\")\n",
        "\n",
        "\n",
        "def test(dataloader, model, loss_fn):\n",
        "    size = len(dataloader.dataset)\n",
        "    num_batches = len(dataloader)\n",
        "    model.eval()\n",
        "    test_loss, correct = 0, 0\n",
        "    with torch.no_grad():\n",
        "        for (img_rgb, y) in dataloader:\n",
        "            img_rgb = img_rgb.to(device)\n",
        "\n",
        "            y = y.to(device)\n",
        "\n",
        "            pred = model(img_rgb)\n",
        "            test_loss += loss_fn(pred, y).item()\n",
        "            correct += (pred.argmax(1) == y).type(torch.float).sum().item()\n",
        "    test_loss /= num_batches\n",
        "    correct /= size\n",
        "    print(f\"Test Error: \\n Accuracy: {(100*correct):>0.1f}%, Avg loss: {test_loss:>8f} \\n\")\n",
        "    return test_loss, correct"
      ],
      "metadata": {
        "id": "pVhWBMTlwlzb"
      },
      "execution_count": null,
      "outputs": []
    },
    {
      "cell_type": "markdown",
      "source": [
        "# 模型 CNN"
      ],
      "metadata": {
        "id": "YvVEpSeXsnsD"
      }
    },
    {
      "cell_type": "markdown",
      "source": [
        "## 构建基础模型"
      ],
      "metadata": {
        "id": "5OoiKLa1s3Xy"
      }
    },
    {
      "cell_type": "code",
      "source": [
        "class BaseModel(nn.Module):\n",
        "    def __init__(self):\n",
        "        super().__init__()\n",
        "        self.conv1 = nn.Conv2d(3, 6, 3)\n",
        "        self.pool = nn.MaxPool2d(2, 2)\n",
        "        self.conv2 = nn.Conv2d(6, 16, 3)\n",
        "        self.conv3 = nn.Conv2d(16, 32, 3)\n",
        "        self.conv4 = nn.Conv2d(32, 32, 3)\n",
        "        self.fc1 = nn.Linear(4608, 120)\n",
        "        self.fc2 = nn.Linear(120, 84)\n",
        "        self.fc3 = nn.Linear(84, num_classes)\n",
        "\n",
        "    def forward(self, x):\n",
        "        x = self.pool(F.relu(self.conv1(x)))\n",
        "        x = self.pool(F.relu(self.conv2(x)))\n",
        "        x = self.pool(F.relu(self.conv3(x)))\n",
        "        x = self.pool(F.relu(self.conv4(x)))\n",
        "        x = torch.flatten(x, 1) # flatten all dimensions except batch\n",
        "        x = F.relu(self.fc1(x))\n",
        "        x = F.relu(self.fc2(x))\n",
        "        x = self.fc3(x)\n",
        "        return x\n",
        "\n",
        "\n",
        "cnn_model = BaseModel().to(device)\n",
        "\n",
        "cnn_model(b_img_rgb.to(device)).shape"
      ],
      "metadata": {
        "colab": {
          "base_uri": "https://localhost:8080/"
        },
        "id": "hTbvAhX8snTJ",
        "outputId": "7f8c906b-4fdb-4e7b-8533-af6293e58bb0"
      },
      "execution_count": null,
      "outputs": [
        {
          "output_type": "execute_result",
          "data": {
            "text/plain": [
              "torch.Size([8, 4])"
            ]
          },
          "metadata": {},
          "execution_count": 23
        }
      ]
    },
    {
      "cell_type": "code",
      "source": [],
      "metadata": {
        "id": "KRDD9H7Iwcy8"
      },
      "execution_count": null,
      "outputs": []
    },
    {
      "cell_type": "markdown",
      "source": [
        "## 分配损失函数和优化器"
      ],
      "metadata": {
        "id": "PQveMiqowc_D"
      }
    },
    {
      "cell_type": "code",
      "source": [
        "loss_fn = nn.CrossEntropyLoss()\n",
        "optimizer = torch.optim.Adam(cnn_model.parameters(), lr=1e-3)"
      ],
      "metadata": {
        "id": "3VBBDE9-q85Y"
      },
      "execution_count": null,
      "outputs": []
    },
    {
      "cell_type": "code",
      "source": [],
      "metadata": {
        "id": "J8f8ZI7cw3M7"
      },
      "execution_count": null,
      "outputs": []
    },
    {
      "cell_type": "markdown",
      "source": [
        "## 训练和评估"
      ],
      "metadata": {
        "id": "LySN9sx3xAF2"
      }
    },
    {
      "cell_type": "code",
      "source": [
        "epochs = 3\n",
        "train_loss_list = []\n",
        "train_acc_list = []\n",
        "test_loss_list = []\n",
        "test_acc_list = []\n",
        "for t in range(epochs):\n",
        "    print(f\"Epoch {t+1}\\n-------------------------------\")\n",
        "    train(train_dataloader, cnn_model, loss_fn, optimizer)\n",
        "\n",
        "    train_loss, train_correct = test(train_dataloader, cnn_model, loss_fn)\n",
        "    test_loss, test_correct = test(test_dataloader, cnn_model, loss_fn)\n",
        "    train_loss_list.append(train_loss)\n",
        "    train_acc_list.append(train_correct)\n",
        "    test_loss_list.append(test_loss)\n",
        "    test_acc_list.append(test_correct)\n",
        "print(\"Done!\")"
      ],
      "metadata": {
        "colab": {
          "base_uri": "https://localhost:8080/"
        },
        "id": "9-9CIPRHw3Pu",
        "outputId": "b1c599be-dc5c-4138-c1fd-321dc8c68e82"
      },
      "execution_count": null,
      "outputs": [
        {
          "output_type": "stream",
          "name": "stdout",
          "text": [
            "Epoch 1\n",
            "-------------------------------\n",
            "loss: 1.564143  [    0/  160]\n",
            "Test Error: \n",
            " Accuracy: 24.4%, Avg loss: 1.384088 \n",
            "\n",
            "Test Error: \n",
            " Accuracy: 32.5%, Avg loss: 1.383560 \n",
            "\n",
            "Epoch 2\n",
            "-------------------------------\n",
            "loss: 1.382087  [    0/  160]\n",
            "Test Error: \n",
            " Accuracy: 43.1%, Avg loss: 1.269352 \n",
            "\n",
            "Test Error: \n",
            " Accuracy: 30.0%, Avg loss: 1.311900 \n",
            "\n",
            "Epoch 3\n",
            "-------------------------------\n",
            "loss: 1.330970  [    0/  160]\n",
            "Test Error: \n",
            " Accuracy: 46.9%, Avg loss: 1.194521 \n",
            "\n",
            "Test Error: \n",
            " Accuracy: 35.0%, Avg loss: 1.303906 \n",
            "\n",
            "Done!\n"
          ]
        }
      ]
    },
    {
      "cell_type": "code",
      "source": [],
      "metadata": {
        "id": "PSATbWF8w3SK"
      },
      "execution_count": null,
      "outputs": []
    },
    {
      "cell_type": "markdown",
      "metadata": {
        "id": "8ytik24zgj1M"
      },
      "source": [
        "## 可视化训练过程"
      ]
    },
    {
      "cell_type": "code",
      "execution_count": null,
      "metadata": {
        "id": "sDVqslFsgj1P",
        "colab": {
          "base_uri": "https://localhost:8080/"
        },
        "outputId": "4e63cb29-7fc3-414f-9b66-52a0a4fa3f10"
      },
      "outputs": [
        {
          "output_type": "display_data",
          "data": {
            "text/plain": [
              "<Figure size 800x800 with 2 Axes>"
            ],
            "image/png": "[encoded data removed]"
          },
          "metadata": {}
        }
      ],
      "source": [
        "# train_loss_array,train_acc_array,val_loss_array,val_acc_array\n",
        "acc = train_acc_list\n",
        "val_acc = test_acc_list\n",
        "\n",
        "loss = train_loss_list\n",
        "val_loss = test_loss_list\n",
        "epochs_range = range(epochs)\n",
        "\n",
        "plt.figure(figsize=(8, 8))\n",
        "plt.subplot(1, 2, 1)\n",
        "plt.plot(epochs_range, acc, label='Training Accuracy')\n",
        "plt.plot(epochs_range, val_acc, label='Validation Accuracy')\n",
        "plt.legend(loc='lower right')\n",
        "plt.title('Training and Validation Accuracy')\n",
        "\n",
        "plt.subplot(1, 2, 2)\n",
        "plt.plot(epochs_range, loss, label='Training Loss')\n",
        "plt.plot(epochs_range, val_loss, label='Validation Loss')\n",
        "plt.legend(loc='upper right')\n",
        "plt.title('Training and Validation Loss')\n",
        "plt.show()"
      ]
    },
    {
      "cell_type": "markdown",
      "source": [
        "## 模型验证集预测"
      ],
      "metadata": {
        "id": "kXHgaKFyWRXr"
      }
    },
    {
      "cell_type": "code",
      "source": [
        "predict_list = []\n",
        "label_list = []\n",
        "predict_pro_list = []\n",
        "m_softmax = nn.Softmax(dim=1)\n",
        "for (img_rgb, y) in test_dataloader:\n",
        "    img_rgb = img_rgb.to(device)\n",
        "    y = y.to(device)\n",
        "\n",
        "    predict_score = cnn_model(img_rgb)\n",
        "    predict_pro = m_softmax(predict_score)\n",
        "\n",
        "    predict_label = np.argmax(predict_score.detach().cpu().numpy(),axis=1)\n",
        "\n",
        "    predict_pro_list.append(predict_pro.detach().cpu().numpy())\n",
        "    predict_list.append(predict_label)\n",
        "    label_list.append(y.detach().cpu().numpy())\n",
        "\n",
        "predict_pro_array = np.vstack(predict_pro_list)[:,1]\n",
        "predict_array = np.hstack(predict_list)\n",
        "label_array = np.hstack(label_list)\n",
        "predict_pro_array[:5],predict_array[:5],label_array[:5]"
      ],
      "metadata": {
        "id": "kKAOek2wWRXr",
        "colab": {
          "base_uri": "https://localhost:8080/"
        },
        "outputId": "c43612bb-3b7f-4fc5-d967-3a1154b67ed0"
      },
      "execution_count": null,
      "outputs": [
        {
          "output_type": "execute_result",
          "data": {
            "text/plain": [
              "(array([0.14404933, 0.22396123, 0.17210047, 0.13890734, 0.1526997 ],\n",
              "       dtype=float32),\n",
              " array([3, 3, 3, 3, 3]),\n",
              " array([3, 2, 3, 1, 3]))"
            ]
          },
          "metadata": {},
          "execution_count": 27
        }
      ]
    },
    {
      "cell_type": "markdown",
      "source": [
        "### 分类报告"
      ],
      "metadata": {
        "id": "kAFkFdeZWRXt"
      }
    },
    {
      "cell_type": "code",
      "source": [
        "from sklearn.metrics import classification_report\n",
        "print(classification_report(label_array, predict_array,digits=3))"
      ],
      "metadata": {
        "id": "M6NpQaCxWRXt",
        "colab": {
          "base_uri": "https://localhost:8080/"
        },
        "outputId": "649f5b46-90b1-4760-bd4f-c811d8939d86"
      },
      "execution_count": null,
      "outputs": [
        {
          "output_type": "stream",
          "name": "stdout",
          "text": [
            "              precision    recall  f1-score   support\n",
            "\n",
            "           0      0.167     0.167     0.167         6\n",
            "           1      0.333     0.100     0.154        10\n",
            "           2      0.000     0.000     0.000        10\n",
            "           3      0.387     0.857     0.533        14\n",
            "\n",
            "    accuracy                          0.350        40\n",
            "   macro avg      0.222     0.281     0.213        40\n",
            "weighted avg      0.244     0.350     0.250        40\n",
            "\n"
          ]
        },
        {
          "output_type": "stream",
          "name": "stderr",
          "text": [
            "/usr/local/lib/python3.11/dist-packages/sklearn/metrics/_classification.py:1565: UndefinedMetricWarning: Precision is ill-defined and being set to 0.0 in labels with no predicted samples. Use `zero_division` parameter to control this behavior.\n",
            "  _warn_prf(average, modifier, f\"{metric.capitalize()} is\", len(result))\n",
            "/usr/local/lib/python3.11/dist-packages/sklearn/metrics/_classification.py:1565: UndefinedMetricWarning: Precision is ill-defined and being set to 0.0 in labels with no predicted samples. Use `zero_division` parameter to control this behavior.\n",
            "  _warn_prf(average, modifier, f\"{metric.capitalize()} is\", len(result))\n",
            "/usr/local/lib/python3.11/dist-packages/sklearn/metrics/_classification.py:1565: UndefinedMetricWarning: Precision is ill-defined and being set to 0.0 in labels with no predicted samples. Use `zero_division` parameter to control this behavior.\n",
            "  _warn_prf(average, modifier, f\"{metric.capitalize()} is\", len(result))\n"
          ]
        }
      ]
    },
    {
      "cell_type": "code",
      "source": [],
      "metadata": {
        "id": "6OzwB8Y1hF7O"
      },
      "execution_count": null,
      "outputs": []
    },
    {
      "cell_type": "markdown",
      "source": [
        "### 混淆矩阵"
      ],
      "metadata": {
        "id": "LEoC4mPDhGIW"
      }
    },
    {
      "cell_type": "code",
      "source": [],
      "metadata": {
        "id": "GkE0QrFlhGIW"
      },
      "execution_count": null,
      "outputs": []
    },
    {
      "cell_type": "code",
      "source": [
        "from sklearn.metrics import confusion_matrix\n",
        "cnf_matrix = confusion_matrix(label_array, predict_array)\n",
        "cnf_matrix"
      ],
      "metadata": {
        "colab": {
          "base_uri": "https://localhost:8080/"
        },
        "outputId": "bf0f9543-f55e-4673-899f-88a8181d2760",
        "id": "OlTPr0SIhGIW"
      },
      "execution_count": null,
      "outputs": [
        {
          "output_type": "execute_result",
          "data": {
            "text/plain": [
              "array([[ 1,  0,  0,  5],\n",
              "       [ 2,  1,  0,  7],\n",
              "       [ 1,  2,  0,  7],\n",
              "       [ 2,  0,  0, 12]])"
            ]
          },
          "metadata": {},
          "execution_count": 29
        }
      ]
    },
    {
      "cell_type": "code",
      "source": [],
      "metadata": {
        "id": "sJXXhRkbhGIW"
      },
      "execution_count": null,
      "outputs": []
    },
    {
      "cell_type": "code",
      "source": [
        "sns.heatmap(cnf_matrix, annot=True, fmt='g')"
      ],
      "metadata": {
        "colab": {
          "base_uri": "https://localhost:8080/",
          "height": 452
        },
        "outputId": "9c0db736-8437-4345-ba5e-bc02245c007e",
        "id": "64MtfzmxhGIW"
      },
      "execution_count": null,
      "outputs": [
        {
          "output_type": "execute_result",
          "data": {
            "text/plain": [
              "<Axes: >"
            ]
          },
          "metadata": {},
          "execution_count": 30
        },
        {
          "output_type": "display_data",
          "data": {
            "text/plain": [
              "<Figure size 640x480 with 2 Axes>"
            ],
            "image/png": "[encoded data removed]"
          },
          "metadata": {}
        }
      ]
    },
    {
      "cell_type": "code",
      "source": [
        "cm_normalized = cnf_matrix.astype('float') / cnf_matrix.sum(axis=1)[:, np.newaxis]\n",
        "sns.heatmap(cm_normalized, annot=True, fmt='.3g')"
      ],
      "metadata": {
        "colab": {
          "base_uri": "https://localhost:8080/",
          "height": 447
        },
        "outputId": "37e6f7ee-6b65-43c4-8bcd-cb37a89479ee",
        "id": "N3i0c8_vhGIW"
      },
      "execution_count": null,
      "outputs": [
        {
          "output_type": "execute_result",
          "data": {
            "text/plain": [
              "<Axes: >"
            ]
          },
          "metadata": {},
          "execution_count": 31
        },
        {
          "output_type": "display_data",
          "data": {
            "text/plain": [
              "<Figure size 640x480 with 2 Axes>"
            ],
            "image/png": "[encoded data removed]"
          },
          "metadata": {}
        }
      ]
    },
    {
      "cell_type": "code",
      "source": [],
      "metadata": {
        "id": "VCrXjPDzhGIX"
      },
      "execution_count": null,
      "outputs": []
    },
    {
      "cell_type": "markdown",
      "source": [
        "# 模型 resnet18"
      ],
      "metadata": {
        "id": "JhooHV3V7mSe"
      }
    },
    {
      "cell_type": "markdown",
      "source": [
        "## 构建基础模型"
      ],
      "metadata": {
        "id": "yprsXMHu7mSe"
      }
    },
    {
      "cell_type": "code",
      "source": [
        "\n",
        "base_model_resnet18 = models.resnet18(pretrained=True)\n",
        "num_ftrs = base_model_resnet18.fc.in_features\n",
        "# Here the size of each output sample is set to 2.\n",
        "# Alternatively, it can be generalized to nn.Linear(num_ftrs, len(class_names)).\n",
        "base_model_resnet18.fc = nn.Linear(num_ftrs, num_classes)\n",
        "\n",
        "base_model_resnet18 = base_model_resnet18.to(device)\n",
        "\n",
        "base_model_resnet18(b_img_rgb.to(device)).shape"
      ],
      "metadata": {
        "colab": {
          "base_uri": "https://localhost:8080/"
        },
        "outputId": "a63c9a5a-0a95-44aa-d4de-a046a943d2e7",
        "id": "Afsm54Go7mSe"
      },
      "execution_count": null,
      "outputs": [
        {
          "output_type": "stream",
          "name": "stderr",
          "text": [
            "/usr/local/lib/python3.11/dist-packages/torchvision/models/_utils.py:208: UserWarning: The parameter 'pretrained' is deprecated since 0.13 and may be removed in the future, please use 'weights' instead.\n",
            "  warnings.warn(\n",
            "/usr/local/lib/python3.11/dist-packages/torchvision/models/_utils.py:223: UserWarning: Arguments other than a weight enum or `None` for 'weights' are deprecated since 0.13 and may be removed in the future. The current behavior is equivalent to passing `weights=ResNet18_Weights.IMAGENET1K_V1`. You can also use `weights=ResNet18_Weights.DEFAULT` to get the most up-to-date weights.\n",
            "  warnings.warn(msg)\n",
            "Downloading: \"https://download.pytorch.org/models/resnet18-f37072fd.pth\" to /root/.cache/torch/hub/checkpoints/resnet18-f37072fd.pth\n",
            "100%|██████████| 44.7M/44.7M [00:00<00:00, 213MB/s]\n"
          ]
        },
        {
          "output_type": "execute_result",
          "data": {
            "text/plain": [
              "torch.Size([8, 4])"
            ]
          },
          "metadata": {},
          "execution_count": 32
        }
      ]
    },
    {
      "cell_type": "code",
      "source": [
        "base_model_resnet18"
      ],
      "metadata": {
        "colab": {
          "base_uri": "https://localhost:8080/"
        },
        "id": "SeiQ4_e28wNN",
        "outputId": "e37caf1a-bc7e-40a0-d905-94a68dd429a4"
      },
      "execution_count": null,
      "outputs": [
        {
          "output_type": "execute_result",
          "data": {
            "text/plain": [
              "ResNet(\n",
              "  (conv1): Conv2d(3, 64, kernel_size=(7, 7), stride=(2, 2), padding=(3, 3), bias=False)\n",
              "  (bn1): BatchNorm2d(64, eps=1e-05, momentum=0.1, affine=True, track_running_stats=True)\n",
              "  (relu): ReLU(inplace=True)\n",
              "  (maxpool): MaxPool2d(kernel_size=3, stride=2, padding=1, dilation=1, ceil_mode=False)\n",
              "  (layer1): Sequential(\n",
              "    (0): BasicBlock(\n",
              "      (conv1): Conv2d(64, 64, kernel_size=(3, 3), stride=(1, 1), padding=(1, 1), bias=False)\n",
              "      (bn1): BatchNorm2d(64, eps=1e-05, momentum=0.1, affine=True, track_running_stats=True)\n",
              "      (relu): ReLU(inplace=True)\n",
              "      (conv2): Conv2d(64, 64, kernel_size=(3, 3), stride=(1, 1), padding=(1, 1), bias=False)\n",
              "      (bn2): BatchNorm2d(64, eps=1e-05, momentum=0.1, affine=True, track_running_stats=True)\n",
              "    )\n",
              "    (1): BasicBlock(\n",
              "      (conv1): Conv2d(64, 64, kernel_size=(3, 3), stride=(1, 1), padding=(1, 1), bias=False)\n",
              "      (bn1): BatchNorm2d(64, eps=1e-05, momentum=0.1, affine=True, track_running_stats=True)\n",
              "      (relu): ReLU(inplace=True)\n",
              "      (conv2): Conv2d(64, 64, kernel_size=(3, 3), stride=(1, 1), padding=(1, 1), bias=False)\n",
              "      (bn2): BatchNorm2d(64, eps=1e-05, momentum=0.1, affine=True, track_running_stats=True)\n",
              "    )\n",
              "  )\n",
              "  (layer2): Sequential(\n",
              "    (0): BasicBlock(\n",
              "      (conv1): Conv2d(64, 128, kernel_size=(3, 3), stride=(2, 2), padding=(1, 1), bias=False)\n",
              "      (bn1): BatchNorm2d(128, eps=1e-05, momentum=0.1, affine=True, track_running_stats=True)\n",
              "      (relu): ReLU(inplace=True)\n",
              "      (conv2): Conv2d(128, 128, kernel_size=(3, 3), stride=(1, 1), padding=(1, 1), bias=False)\n",
              "      (bn2): BatchNorm2d(128, eps=1e-05, momentum=0.1, affine=True, track_running_stats=True)\n",
              "      (downsample): Sequential(\n",
              "        (0): Conv2d(64, 128, kernel_size=(1, 1), stride=(2, 2), bias=False)\n",
              "        (1): BatchNorm2d(128, eps=1e-05, momentum=0.1, affine=True, track_running_stats=True)\n",
              "      )\n",
              "    )\n",
              "    (1): BasicBlock(\n",
              "      (conv1): Conv2d(128, 128, kernel_size=(3, 3), stride=(1, 1), padding=(1, 1), bias=False)\n",
              "      (bn1): BatchNorm2d(128, eps=1e-05, momentum=0.1, affine=True, track_running_stats=True)\n",
              "      (relu): ReLU(inplace=True)\n",
              "      (conv2): Conv2d(128, 128, kernel_size=(3, 3), stride=(1, 1), padding=(1, 1), bias=False)\n",
              "      (bn2): BatchNorm2d(128, eps=1e-05, momentum=0.1, affine=True, track_running_stats=True)\n",
              "    )\n",
              "  )\n",
              "  (layer3): Sequential(\n",
              "    (0): BasicBlock(\n",
              "      (conv1): Conv2d(128, 256, kernel_size=(3, 3), stride=(2, 2), padding=(1, 1), bias=False)\n",
              "      (bn1): BatchNorm2d(256, eps=1e-05, momentum=0.1, affine=True, track_running_stats=True)\n",
              "      (relu): ReLU(inplace=True)\n",
              "      (conv2): Conv2d(256, 256, kernel_size=(3, 3), stride=(1, 1), padding=(1, 1), bias=False)\n",
              "      (bn2): BatchNorm2d(256, eps=1e-05, momentum=0.1, affine=True, track_running_stats=True)\n",
              "      (downsample): Sequential(\n",
              "        (0): Conv2d(128, 256, kernel_size=(1, 1), stride=(2, 2), bias=False)\n",
              "        (1): BatchNorm2d(256, eps=1e-05, momentum=0.1, affine=True, track_running_stats=True)\n",
              "      )\n",
              "    )\n",
              "    (1): BasicBlock(\n",
              "      (conv1): Conv2d(256, 256, kernel_size=(3, 3), stride=(1, 1), padding=(1, 1), bias=False)\n",
              "      (bn1): BatchNorm2d(256, eps=1e-05, momentum=0.1, affine=True, track_running_stats=True)\n",
              "      (relu): ReLU(inplace=True)\n",
              "      (conv2): Conv2d(256, 256, kernel_size=(3, 3), stride=(1, 1), padding=(1, 1), bias=False)\n",
              "      (bn2): BatchNorm2d(256, eps=1e-05, momentum=0.1, affine=True, track_running_stats=True)\n",
              "    )\n",
              "  )\n",
              "  (layer4): Sequential(\n",
              "    (0): BasicBlock(\n",
              "      (conv1): Conv2d(256, 512, kernel_size=(3, 3), stride=(2, 2), padding=(1, 1), bias=False)\n",
              "      (bn1): BatchNorm2d(512, eps=1e-05, momentum=0.1, affine=True, track_running_stats=True)\n",
              "      (relu): ReLU(inplace=True)\n",
              "      (conv2): Conv2d(512, 512, kernel_size=(3, 3), stride=(1, 1), padding=(1, 1), bias=False)\n",
              "      (bn2): BatchNorm2d(512, eps=1e-05, momentum=0.1, affine=True, track_running_stats=True)\n",
              "      (downsample): Sequential(\n",
              "        (0): Conv2d(256, 512, kernel_size=(1, 1), stride=(2, 2), bias=False)\n",
              "        (1): BatchNorm2d(512, eps=1e-05, momentum=0.1, affine=True, track_running_stats=True)\n",
              "      )\n",
              "    )\n",
              "    (1): BasicBlock(\n",
              "      (conv1): Conv2d(512, 512, kernel_size=(3, 3), stride=(1, 1), padding=(1, 1), bias=False)\n",
              "      (bn1): BatchNorm2d(512, eps=1e-05, momentum=0.1, affine=True, track_running_stats=True)\n",
              "      (relu): ReLU(inplace=True)\n",
              "      (conv2): Conv2d(512, 512, kernel_size=(3, 3), stride=(1, 1), padding=(1, 1), bias=False)\n",
              "      (bn2): BatchNorm2d(512, eps=1e-05, momentum=0.1, affine=True, track_running_stats=True)\n",
              "    )\n",
              "  )\n",
              "  (avgpool): AdaptiveAvgPool2d(output_size=(1, 1))\n",
              "  (fc): Linear(in_features=512, out_features=4, bias=True)\n",
              ")"
            ]
          },
          "metadata": {},
          "execution_count": 33
        }
      ]
    },
    {
      "cell_type": "code",
      "source": [],
      "metadata": {
        "id": "_IaLGO6b7mSe"
      },
      "execution_count": null,
      "outputs": []
    },
    {
      "cell_type": "markdown",
      "source": [
        "## 分配损失函数和优化器"
      ],
      "metadata": {
        "id": "z1hf0-tk7mSf"
      }
    },
    {
      "cell_type": "code",
      "source": [
        "loss_fn = nn.CrossEntropyLoss()\n",
        "optimizer = torch.optim.SGD(base_model_resnet18.parameters(), lr=1e-3)"
      ],
      "metadata": {
        "id": "ezJ3mt7f7mSf"
      },
      "execution_count": null,
      "outputs": []
    },
    {
      "cell_type": "markdown",
      "source": [
        "## 训练和评估"
      ],
      "metadata": {
        "id": "1jVxhaP1lAJv"
      }
    },
    {
      "cell_type": "code",
      "source": [
        "epochs = 2\n",
        "train_loss_list = []\n",
        "train_acc_list = []\n",
        "test_loss_list = []\n",
        "test_acc_list = []\n",
        "for t in range(epochs):\n",
        "    print(f\"Epoch {t+1}\\n-------------------------------\")\n",
        "    train(train_dataloader, base_model_resnet18, loss_fn, optimizer)\n",
        "\n",
        "    train_loss, train_correct = test(train_dataloader, base_model_resnet18, loss_fn)\n",
        "    test_loss, test_correct = test(test_dataloader, base_model_resnet18, loss_fn)\n",
        "    train_loss_list.append(train_loss)\n",
        "    train_acc_list.append(train_correct)\n",
        "    test_loss_list.append(test_loss)\n",
        "    test_acc_list.append(test_correct)\n",
        "print(\"Done!\")"
      ],
      "metadata": {
        "colab": {
          "base_uri": "https://localhost:8080/"
        },
        "outputId": "0011216f-0440-4c01-ac67-613a321330b6",
        "id": "mgGwnnb_lAJw"
      },
      "execution_count": null,
      "outputs": [
        {
          "output_type": "stream",
          "name": "stdout",
          "text": [
            "Epoch 1\n",
            "-------------------------------\n",
            "loss: 1.940134  [    0/  160]\n",
            "Test Error: \n",
            " Accuracy: 44.4%, Avg loss: 1.232117 \n",
            "\n",
            "Test Error: \n",
            " Accuracy: 37.5%, Avg loss: 1.278787 \n",
            "\n",
            "Epoch 2\n",
            "-------------------------------\n",
            "loss: 1.173187  [    0/  160]\n",
            "Test Error: \n",
            " Accuracy: 65.0%, Avg loss: 0.998773 \n",
            "\n",
            "Test Error: \n",
            " Accuracy: 45.0%, Avg loss: 1.100019 \n",
            "\n",
            "Done!\n"
          ]
        }
      ]
    },
    {
      "cell_type": "code",
      "source": [],
      "metadata": {
        "id": "ci6XMh4flAJw"
      },
      "execution_count": null,
      "outputs": []
    },
    {
      "cell_type": "markdown",
      "metadata": {
        "id": "Yk7d1BnrlAJw"
      },
      "source": [
        "## 可视化训练过程"
      ]
    },
    {
      "cell_type": "code",
      "execution_count": null,
      "metadata": {
        "colab": {
          "base_uri": "https://localhost:8080/",
          "height": 699
        },
        "outputId": "3cbc8d30-d416-435c-c633-baba5da33b16",
        "id": "PxRz2emYlAJw"
      },
      "outputs": [
        {
          "output_type": "display_data",
          "data": {
            "text/plain": [
              "<Figure size 800x800 with 2 Axes>"
            ],
            "image/png": "[encoded data removed]"
          },
          "metadata": {}
        }
      ],
      "source": [
        "# train_loss_array,train_acc_array,val_loss_array,val_acc_array\n",
        "acc = train_acc_list\n",
        "val_acc = test_acc_list\n",
        "\n",
        "loss = train_loss_list\n",
        "val_loss = test_loss_list\n",
        "epochs_range = range(epochs)\n",
        "\n",
        "plt.figure(figsize=(8, 8))\n",
        "plt.subplot(1, 2, 1)\n",
        "plt.plot(epochs_range, acc, label='Training Accuracy')\n",
        "plt.plot(epochs_range, val_acc, label='Validation Accuracy')\n",
        "plt.legend(loc='lower right')\n",
        "plt.title('Training and Validation Accuracy')\n",
        "\n",
        "plt.subplot(1, 2, 2)\n",
        "plt.plot(epochs_range, loss, label='Training Loss')\n",
        "plt.plot(epochs_range, val_loss, label='Validation Loss')\n",
        "plt.legend(loc='upper right')\n",
        "plt.title('Training and Validation Loss')\n",
        "plt.show()"
      ]
    },
    {
      "cell_type": "code",
      "source": [],
      "metadata": {
        "id": "XsHpwH867mSf"
      },
      "execution_count": null,
      "outputs": []
    },
    {
      "cell_type": "markdown",
      "source": [
        "## 模型验证集预测"
      ],
      "metadata": {
        "id": "xqc2wsmI7mSf"
      }
    },
    {
      "cell_type": "code",
      "source": [
        "predict_list = []\n",
        "label_list = []\n",
        "predict_pro_list = []\n",
        "m_softmax = nn.Softmax(dim=1)\n",
        "for (img_rgb, y) in test_dataloader:\n",
        "    img_rgb = img_rgb.to(device)\n",
        "    y = y.to(device)\n",
        "\n",
        "    predict_score = base_model_resnet18(img_rgb)\n",
        "    predict_pro = m_softmax(predict_score)\n",
        "\n",
        "    predict_label = np.argmax(predict_score.detach().cpu().numpy(),axis=1)\n",
        "\n",
        "    predict_pro_list.append(predict_pro.detach().cpu().numpy())\n",
        "    predict_list.append(predict_label)\n",
        "    label_list.append(y.detach().cpu().numpy())\n",
        "\n",
        "predict_pro_array = np.vstack(predict_pro_list)[:,1]\n",
        "predict_array = np.hstack(predict_list)\n",
        "label_array = np.hstack(label_list)\n",
        "predict_pro_array[:5],predict_array[:5],label_array[:5]"
      ],
      "metadata": {
        "colab": {
          "base_uri": "https://localhost:8080/"
        },
        "outputId": "d63510ed-394a-47c6-9f38-8cc718d5f58d",
        "id": "WqCOvOmZ7mSf"
      },
      "execution_count": null,
      "outputs": [
        {
          "output_type": "execute_result",
          "data": {
            "text/plain": [
              "(array([0.18764335, 0.16357706, 0.14854906, 0.4114835 , 0.3438128 ],\n",
              "       dtype=float32),\n",
              " array([0, 2, 3, 1, 1]),\n",
              " array([3, 2, 3, 1, 3]))"
            ]
          },
          "metadata": {},
          "execution_count": 37
        }
      ]
    },
    {
      "cell_type": "markdown",
      "source": [
        "### 分类报告"
      ],
      "metadata": {
        "id": "69lHjfV37mSg"
      }
    },
    {
      "cell_type": "code",
      "source": [
        "from sklearn.metrics import classification_report\n",
        "print(classification_report(label_array, predict_array,digits=3))"
      ],
      "metadata": {
        "colab": {
          "base_uri": "https://localhost:8080/"
        },
        "outputId": "fbc4c62e-e029-42d1-8ab7-c399d5b0d935",
        "id": "45_MzGc57mSg"
      },
      "execution_count": null,
      "outputs": [
        {
          "output_type": "stream",
          "name": "stdout",
          "text": [
            "              precision    recall  f1-score   support\n",
            "\n",
            "           0      0.167     0.500     0.250         6\n",
            "           1      0.556     0.500     0.526        10\n",
            "           2      0.625     0.500     0.556        10\n",
            "           3      1.000     0.357     0.526        14\n",
            "\n",
            "    accuracy                          0.450        40\n",
            "   macro avg      0.587     0.464     0.465        40\n",
            "weighted avg      0.670     0.450     0.492        40\n",
            "\n"
          ]
        }
      ]
    },
    {
      "cell_type": "code",
      "source": [],
      "metadata": {
        "id": "U5aGNQuRhHqC"
      },
      "execution_count": null,
      "outputs": []
    },
    {
      "cell_type": "markdown",
      "source": [
        "### 混淆矩阵"
      ],
      "metadata": {
        "id": "kISEgbeZhJxW"
      }
    },
    {
      "cell_type": "code",
      "source": [],
      "metadata": {
        "id": "NRtT6tkThJxW"
      },
      "execution_count": null,
      "outputs": []
    },
    {
      "cell_type": "code",
      "source": [
        "from sklearn.metrics import confusion_matrix\n",
        "cnf_matrix = confusion_matrix(label_array, predict_array)\n",
        "cnf_matrix"
      ],
      "metadata": {
        "colab": {
          "base_uri": "https://localhost:8080/"
        },
        "outputId": "b5646ae6-f2cd-47bb-ac20-1c4659aaf373",
        "id": "LsrqD4vqhJxW"
      },
      "execution_count": null,
      "outputs": [
        {
          "output_type": "execute_result",
          "data": {
            "text/plain": [
              "array([[3, 1, 2, 0],\n",
              "       [5, 5, 0, 0],\n",
              "       [4, 1, 5, 0],\n",
              "       [6, 2, 1, 5]])"
            ]
          },
          "metadata": {},
          "execution_count": 39
        }
      ]
    },
    {
      "cell_type": "code",
      "source": [],
      "metadata": {
        "id": "gjj3OfXhhJxW"
      },
      "execution_count": null,
      "outputs": []
    },
    {
      "cell_type": "code",
      "source": [
        "sns.heatmap(cnf_matrix, annot=True, fmt='g')"
      ],
      "metadata": {
        "colab": {
          "base_uri": "https://localhost:8080/",
          "height": 452
        },
        "outputId": "f3796ebe-3455-479c-9384-aa79f3f1b5cb",
        "id": "qd_mo2_AhJxX"
      },
      "execution_count": null,
      "outputs": [
        {
          "output_type": "execute_result",
          "data": {
            "text/plain": [
              "<Axes: >"
            ]
          },
          "metadata": {},
          "execution_count": 40
        },
        {
          "output_type": "display_data",
          "data": {
            "text/plain": [
              "<Figure size 640x480 with 2 Axes>"
            ],
            "image/png": "[encoded data removed]"
          },
          "metadata": {}
        }
      ]
    },
    {
      "cell_type": "code",
      "source": [
        "cm_normalized = cnf_matrix.astype('float') / cnf_matrix.sum(axis=1)[:, np.newaxis]\n",
        "sns.heatmap(cm_normalized, annot=True, fmt='.3g')"
      ],
      "metadata": {
        "colab": {
          "base_uri": "https://localhost:8080/",
          "height": 452
        },
        "outputId": "0cf96e2f-f4aa-40cd-8ecb-8375426e1a8c",
        "id": "RtU5DgVwhJxX"
      },
      "execution_count": null,
      "outputs": [
        {
          "output_type": "execute_result",
          "data": {
            "text/plain": [
              "<Axes: >"
            ]
          },
          "metadata": {},
          "execution_count": 41
        },
        {
          "output_type": "display_data",
          "data": {
            "text/plain": [
              "<Figure size 640x480 with 2 Axes>"
            ],
            "image/png": "[encoded data removed]"
          },
          "metadata": {}
        }
      ]
    },
    {
      "cell_type": "code",
      "source": [],
      "metadata": {
        "id": "Fk7QbEPTHNN-"
      },
      "execution_count": null,
      "outputs": []
    },
    {
      "cell_type": "code",
      "source": [],
      "metadata": {
        "id": "IvWaIuebHNRf"
      },
      "execution_count": null,
      "outputs": []
    },
    {
      "cell_type": "markdown",
      "source": [
        "# 模型 vgg13"
      ],
      "metadata": {
        "id": "YwR7jBRTlh2Q"
      }
    },
    {
      "cell_type": "markdown",
      "source": [
        "## 构建基础模型"
      ],
      "metadata": {
        "id": "WAfAp_0Dlh2W"
      }
    },
    {
      "cell_type": "code",
      "source": [
        "\n",
        "base_model_vgg13 = models.vgg13(pretrained=True)\n",
        "\n",
        "base_model_vgg13.classifier[-1] = nn.Linear(4096, num_classes)\n",
        "\n",
        "base_model_vgg13.to(device)(b_img_rgb.to(device)).shape"
      ],
      "metadata": {
        "colab": {
          "base_uri": "https://localhost:8080/"
        },
        "outputId": "4112fa00-4ede-4095-da3a-205d6fe69d7e",
        "id": "mULlZZTjlh2X"
      },
      "execution_count": null,
      "outputs": [
        {
          "output_type": "stream",
          "name": "stderr",
          "text": [
            "/usr/local/lib/python3.11/dist-packages/torchvision/models/_utils.py:208: UserWarning: The parameter 'pretrained' is deprecated since 0.13 and may be removed in the future, please use 'weights' instead.\n",
            "  warnings.warn(\n",
            "/usr/local/lib/python3.11/dist-packages/torchvision/models/_utils.py:223: UserWarning: Arguments other than a weight enum or `None` for 'weights' are deprecated since 0.13 and may be removed in the future. The current behavior is equivalent to passing `weights=VGG13_Weights.IMAGENET1K_V1`. You can also use `weights=VGG13_Weights.DEFAULT` to get the most up-to-date weights.\n",
            "  warnings.warn(msg)\n",
            "Downloading: \"https://download.pytorch.org/models/vgg13-19584684.pth\" to /root/.cache/torch/hub/checkpoints/vgg13-19584684.pth\n",
            "100%|██████████| 508M/508M [00:02<00:00, 190MB/s]\n"
          ]
        },
        {
          "output_type": "execute_result",
          "data": {
            "text/plain": [
              "torch.Size([8, 4])"
            ]
          },
          "metadata": {},
          "execution_count": 42
        }
      ]
    },
    {
      "cell_type": "code",
      "source": [
        "base_model_vgg13"
      ],
      "metadata": {
        "colab": {
          "base_uri": "https://localhost:8080/"
        },
        "outputId": "e0819d1c-a928-443f-b8bc-35f84dad92d8",
        "id": "_u32LVfwlh2X"
      },
      "execution_count": null,
      "outputs": [
        {
          "output_type": "execute_result",
          "data": {
            "text/plain": [
              "VGG(\n",
              "  (features): Sequential(\n",
              "    (0): Conv2d(3, 64, kernel_size=(3, 3), stride=(1, 1), padding=(1, 1))\n",
              "    (1): ReLU(inplace=True)\n",
              "    (2): Conv2d(64, 64, kernel_size=(3, 3), stride=(1, 1), padding=(1, 1))\n",
              "    (3): ReLU(inplace=True)\n",
              "    (4): MaxPool2d(kernel_size=2, stride=2, padding=0, dilation=1, ceil_mode=False)\n",
              "    (5): Conv2d(64, 128, kernel_size=(3, 3), stride=(1, 1), padding=(1, 1))\n",
              "    (6): ReLU(inplace=True)\n",
              "    (7): Conv2d(128, 128, kernel_size=(3, 3), stride=(1, 1), padding=(1, 1))\n",
              "    (8): ReLU(inplace=True)\n",
              "    (9): MaxPool2d(kernel_size=2, stride=2, padding=0, dilation=1, ceil_mode=False)\n",
              "    (10): Conv2d(128, 256, kernel_size=(3, 3), stride=(1, 1), padding=(1, 1))\n",
              "    (11): ReLU(inplace=True)\n",
              "    (12): Conv2d(256, 256, kernel_size=(3, 3), stride=(1, 1), padding=(1, 1))\n",
              "    (13): ReLU(inplace=True)\n",
              "    (14): MaxPool2d(kernel_size=2, stride=2, padding=0, dilation=1, ceil_mode=False)\n",
              "    (15): Conv2d(256, 512, kernel_size=(3, 3), stride=(1, 1), padding=(1, 1))\n",
              "    (16): ReLU(inplace=True)\n",
              "    (17): Conv2d(512, 512, kernel_size=(3, 3), stride=(1, 1), padding=(1, 1))\n",
              "    (18): ReLU(inplace=True)\n",
              "    (19): MaxPool2d(kernel_size=2, stride=2, padding=0, dilation=1, ceil_mode=False)\n",
              "    (20): Conv2d(512, 512, kernel_size=(3, 3), stride=(1, 1), padding=(1, 1))\n",
              "    (21): ReLU(inplace=True)\n",
              "    (22): Conv2d(512, 512, kernel_size=(3, 3), stride=(1, 1), padding=(1, 1))\n",
              "    (23): ReLU(inplace=True)\n",
              "    (24): MaxPool2d(kernel_size=2, stride=2, padding=0, dilation=1, ceil_mode=False)\n",
              "  )\n",
              "  (avgpool): AdaptiveAvgPool2d(output_size=(7, 7))\n",
              "  (classifier): Sequential(\n",
              "    (0): Linear(in_features=25088, out_features=4096, bias=True)\n",
              "    (1): ReLU(inplace=True)\n",
              "    (2): Dropout(p=0.5, inplace=False)\n",
              "    (3): Linear(in_features=4096, out_features=4096, bias=True)\n",
              "    (4): ReLU(inplace=True)\n",
              "    (5): Dropout(p=0.5, inplace=False)\n",
              "    (6): Linear(in_features=4096, out_features=4, bias=True)\n",
              "  )\n",
              ")"
            ]
          },
          "metadata": {},
          "execution_count": 43
        }
      ]
    },
    {
      "cell_type": "markdown",
      "source": [
        "## 分配损失函数和优化器"
      ],
      "metadata": {
        "id": "fCqlLYY0lh2X"
      }
    },
    {
      "cell_type": "code",
      "source": [
        "loss_fn = nn.CrossEntropyLoss()\n",
        "optimizer = torch.optim.SGD(base_model_vgg13.parameters(), lr=1e-3)"
      ],
      "metadata": {
        "id": "TMITPXRGlh2X"
      },
      "execution_count": null,
      "outputs": []
    },
    {
      "cell_type": "markdown",
      "source": [
        "## 训练和评估"
      ],
      "metadata": {
        "id": "cxcfZFv2lh2Y"
      }
    },
    {
      "cell_type": "code",
      "source": [
        "epochs = 2\n",
        "train_loss_list = []\n",
        "train_acc_list = []\n",
        "test_loss_list = []\n",
        "test_acc_list = []\n",
        "for t in range(epochs):\n",
        "    print(f\"Epoch {t+1}\\n-------------------------------\")\n",
        "    train(train_dataloader, base_model_vgg13, loss_fn, optimizer)\n",
        "\n",
        "    train_loss, train_correct = test(train_dataloader, base_model_vgg13, loss_fn)\n",
        "    test_loss, test_correct = test(test_dataloader, base_model_vgg13, loss_fn)\n",
        "    train_loss_list.append(train_loss)\n",
        "    train_acc_list.append(train_correct)\n",
        "    test_loss_list.append(test_loss)\n",
        "    test_acc_list.append(test_correct)\n",
        "print(\"Done!\")"
      ],
      "metadata": {
        "colab": {
          "base_uri": "https://localhost:8080/"
        },
        "id": "uIxQQYHYHnZ2",
        "outputId": "df200fcd-7682-4c02-b4c4-ce7e417e95dd"
      },
      "execution_count": null,
      "outputs": [
        {
          "output_type": "stream",
          "name": "stdout",
          "text": [
            "Epoch 1\n",
            "-------------------------------\n",
            "loss: 13.272194  [    0/  160]\n",
            "Test Error: \n",
            " Accuracy: 27.5%, Avg loss:      nan \n",
            "\n",
            "Test Error: \n",
            " Accuracy: 15.0%, Avg loss:      nan \n",
            "\n",
            "Epoch 2\n",
            "-------------------------------\n",
            "loss:     nan  [    0/  160]\n",
            "Test Error: \n",
            " Accuracy: 27.5%, Avg loss:      nan \n",
            "\n",
            "Test Error: \n",
            " Accuracy: 15.0%, Avg loss:      nan \n",
            "\n",
            "Done!\n"
          ]
        }
      ]
    },
    {
      "cell_type": "code",
      "source": [],
      "metadata": {
        "id": "_a4RTTW0lh2Y"
      },
      "execution_count": null,
      "outputs": []
    },
    {
      "cell_type": "markdown",
      "metadata": {
        "id": "NTfMBd5Nuak5"
      },
      "source": [
        "## 可视化训练过程"
      ]
    },
    {
      "cell_type": "code",
      "execution_count": null,
      "metadata": {
        "colab": {
          "base_uri": "https://localhost:8080/",
          "height": 699
        },
        "outputId": "518fea52-9add-4371-b67e-c40961924365",
        "id": "8ymxT2fUuak6"
      },
      "outputs": [
        {
          "output_type": "display_data",
          "data": {
            "text/plain": [
              "<Figure size 800x800 with 2 Axes>"
            ],
            "image/png": "[encoded data removed]"
          },
          "metadata": {}
        }
      ],
      "source": [
        "# train_loss_array,train_acc_array,val_loss_array,val_acc_array\n",
        "acc = train_acc_list\n",
        "val_acc = test_acc_list\n",
        "\n",
        "loss = train_loss_list\n",
        "val_loss = test_loss_list\n",
        "epochs_range = range(epochs)\n",
        "\n",
        "plt.figure(figsize=(8, 8))\n",
        "plt.subplot(1, 2, 1)\n",
        "plt.plot(epochs_range, acc, label='Training Accuracy')\n",
        "plt.plot(epochs_range, val_acc, label='Validation Accuracy')\n",
        "plt.legend(loc='lower right')\n",
        "plt.title('Training and Validation Accuracy')\n",
        "\n",
        "plt.subplot(1, 2, 2)\n",
        "plt.plot(epochs_range, loss, label='Training Loss')\n",
        "plt.plot(epochs_range, val_loss, label='Validation Loss')\n",
        "plt.legend(loc='upper right')\n",
        "plt.title('Training and Validation Loss')\n",
        "plt.show()"
      ]
    },
    {
      "cell_type": "markdown",
      "source": [
        "## 模型验证集预测"
      ],
      "metadata": {
        "id": "iRhiMvTXlh2Y"
      }
    },
    {
      "cell_type": "code",
      "source": [
        "predict_list = []\n",
        "label_list = []\n",
        "predict_pro_list = []\n",
        "m_softmax = nn.Softmax(dim=1)\n",
        "for (img_rgb, y) in test_dataloader:\n",
        "    img_rgb = img_rgb.to(device)\n",
        "    y = y.to(device)\n",
        "\n",
        "    predict_score = base_model_vgg13(img_rgb)\n",
        "    predict_pro = m_softmax(predict_score)\n",
        "\n",
        "    predict_label = np.argmax(predict_score.detach().cpu().numpy(),axis=1)\n",
        "\n",
        "    predict_pro_list.append(predict_pro.detach().cpu().numpy())\n",
        "    predict_list.append(predict_label)\n",
        "    label_list.append(y.detach().cpu().numpy())\n",
        "\n",
        "predict_pro_array = np.vstack(predict_pro_list)[:,1]\n",
        "predict_array = np.hstack(predict_list)\n",
        "label_array = np.hstack(label_list)\n",
        "predict_pro_array[:5],predict_array[:5],label_array[:5]"
      ],
      "metadata": {
        "colab": {
          "base_uri": "https://localhost:8080/"
        },
        "outputId": "20326ec7-4b27-46b1-ab13-d3e757961691",
        "id": "a7PpT3gYlh2Y"
      },
      "execution_count": null,
      "outputs": [
        {
          "output_type": "execute_result",
          "data": {
            "text/plain": [
              "(array([nan, nan, nan, nan, nan], dtype=float32),\n",
              " array([0, 0, 0, 0, 0]),\n",
              " array([3, 2, 3, 1, 3]))"
            ]
          },
          "metadata": {},
          "execution_count": 47
        }
      ]
    },
    {
      "cell_type": "markdown",
      "source": [
        "### 分类报告"
      ],
      "metadata": {
        "id": "5gLJlAOflh2Y"
      }
    },
    {
      "cell_type": "code",
      "source": [
        "from sklearn.metrics import classification_report\n",
        "print(classification_report(label_array, predict_array,digits=3))"
      ],
      "metadata": {
        "colab": {
          "base_uri": "https://localhost:8080/"
        },
        "outputId": "573731dc-81ee-444b-8840-af9c3d4ecdc1",
        "id": "enUfaXKwlh2Z"
      },
      "execution_count": null,
      "outputs": [
        {
          "output_type": "stream",
          "name": "stdout",
          "text": [
            "              precision    recall  f1-score   support\n",
            "\n",
            "           0      0.150     1.000     0.261         6\n",
            "           1      0.000     0.000     0.000        10\n",
            "           2      0.000     0.000     0.000        10\n",
            "           3      0.000     0.000     0.000        14\n",
            "\n",
            "    accuracy                          0.150        40\n",
            "   macro avg      0.037     0.250     0.065        40\n",
            "weighted avg      0.022     0.150     0.039        40\n",
            "\n"
          ]
        },
        {
          "output_type": "stream",
          "name": "stderr",
          "text": [
            "/usr/local/lib/python3.11/dist-packages/sklearn/metrics/_classification.py:1565: UndefinedMetricWarning: Precision is ill-defined and being set to 0.0 in labels with no predicted samples. Use `zero_division` parameter to control this behavior.\n",
            "  _warn_prf(average, modifier, f\"{metric.capitalize()} is\", len(result))\n",
            "/usr/local/lib/python3.11/dist-packages/sklearn/metrics/_classification.py:1565: UndefinedMetricWarning: Precision is ill-defined and being set to 0.0 in labels with no predicted samples. Use `zero_division` parameter to control this behavior.\n",
            "  _warn_prf(average, modifier, f\"{metric.capitalize()} is\", len(result))\n",
            "/usr/local/lib/python3.11/dist-packages/sklearn/metrics/_classification.py:1565: UndefinedMetricWarning: Precision is ill-defined and being set to 0.0 in labels with no predicted samples. Use `zero_division` parameter to control this behavior.\n",
            "  _warn_prf(average, modifier, f\"{metric.capitalize()} is\", len(result))\n"
          ]
        }
      ]
    },
    {
      "cell_type": "code",
      "source": [],
      "metadata": {
        "id": "aEBX85tHhMGr"
      },
      "execution_count": null,
      "outputs": []
    },
    {
      "cell_type": "markdown",
      "source": [
        "### 混淆矩阵"
      ],
      "metadata": {
        "id": "qonm8O0xhM7c"
      }
    },
    {
      "cell_type": "code",
      "source": [],
      "metadata": {
        "id": "zoapugWuhM7c"
      },
      "execution_count": null,
      "outputs": []
    },
    {
      "cell_type": "code",
      "source": [
        "from sklearn.metrics import confusion_matrix\n",
        "cnf_matrix = confusion_matrix(label_array, predict_array)\n",
        "cnf_matrix"
      ],
      "metadata": {
        "colab": {
          "base_uri": "https://localhost:8080/"
        },
        "outputId": "bf72abf6-dbad-4b3b-85c9-5a5f10a69409",
        "id": "YUBsz5_HhM7c"
      },
      "execution_count": null,
      "outputs": [
        {
          "output_type": "execute_result",
          "data": {
            "text/plain": [
              "array([[ 6,  0,  0,  0],\n",
              "       [10,  0,  0,  0],\n",
              "       [10,  0,  0,  0],\n",
              "       [14,  0,  0,  0]])"
            ]
          },
          "metadata": {},
          "execution_count": 49
        }
      ]
    },
    {
      "cell_type": "code",
      "source": [],
      "metadata": {
        "id": "w2LFUqWchM7c"
      },
      "execution_count": null,
      "outputs": []
    },
    {
      "cell_type": "code",
      "source": [
        "sns.heatmap(cnf_matrix, annot=True, fmt='g')"
      ],
      "metadata": {
        "colab": {
          "base_uri": "https://localhost:8080/",
          "height": 452
        },
        "outputId": "47dded4e-c193-40f6-fa46-f756b3c02882",
        "id": "3daXPVjqhM7d"
      },
      "execution_count": null,
      "outputs": [
        {
          "output_type": "execute_result",
          "data": {
            "text/plain": [
              "<Axes: >"
            ]
          },
          "metadata": {},
          "execution_count": 50
        },
        {
          "output_type": "display_data",
          "data": {
            "text/plain": [
              "<Figure size 640x480 with 2 Axes>"
            ],
            "image/png": "[encoded data removed]"
          },
          "metadata": {}
        }
      ]
    },
    {
      "cell_type": "code",
      "source": [
        "cm_normalized = cnf_matrix.astype('float') / cnf_matrix.sum(axis=1)[:, np.newaxis]\n",
        "sns.heatmap(cm_normalized, annot=True, fmt='.3f')"
      ],
      "metadata": {
        "colab": {
          "base_uri": "https://localhost:8080/",
          "height": 452
        },
        "outputId": "8e05d26f-85e6-4621-dca9-91b050d62b5b",
        "id": "EHZH3IAxhM7d"
      },
      "execution_count": null,
      "outputs": [
        {
          "output_type": "execute_result",
          "data": {
            "text/plain": [
              "<Axes: >"
            ]
          },
          "metadata": {},
          "execution_count": 51
        },
        {
          "output_type": "display_data",
          "data": {
            "text/plain": [
              "<Figure size 640x480 with 2 Axes>"
            ],
            "image/png": "[encoded data removed]"
          },
          "metadata": {}
        }
      ]
    },
    {
      "cell_type": "code",
      "source": [],
      "metadata": {
        "id": "H9B3WDg1c3R5"
      },
      "execution_count": null,
      "outputs": []
    },
    {
      "cell_type": "code",
      "source": [],
      "metadata": {
        "id": "_OJh5_VwHOwn"
      },
      "execution_count": null,
      "outputs": []
    },
    {
      "cell_type": "code",
      "source": [],
      "metadata": {
        "id": "MOx_aP-LIMPm"
      },
      "execution_count": null,
      "outputs": []
    },
    {
      "cell_type": "markdown",
      "source": [
        "# 模型 vit"
      ],
      "metadata": {
        "id": "LvY8pP1rIMPt"
      }
    },
    {
      "cell_type": "markdown",
      "source": [
        "## 构建基础模型"
      ],
      "metadata": {
        "id": "AlAbdQalIMPu"
      }
    },
    {
      "cell_type": "code",
      "source": [
        "\n",
        "base_model_vit_b_16 = models.vit_b_16(pretrained=True)\n",
        "# base_model_vit_b_16.encoder.layers = base_model_vit_b_16.encoder.layers[:2]\n",
        "base_model_vit_b_16.heads.head = nn.Linear(768, num_classes)\n",
        "\n",
        "base_model_vit_b_16.to(device)(b_img_rgb.to(device)).shape"
      ],
      "metadata": {
        "colab": {
          "base_uri": "https://localhost:8080/"
        },
        "id": "h_cLofn_IR2H",
        "outputId": "043e1f56-6b88-4fa0-c7aa-67058d7a2330"
      },
      "execution_count": null,
      "outputs": [
        {
          "output_type": "stream",
          "name": "stderr",
          "text": [
            "/usr/local/lib/python3.11/dist-packages/torchvision/models/_utils.py:208: UserWarning: The parameter 'pretrained' is deprecated since 0.13 and may be removed in the future, please use 'weights' instead.\n",
            "  warnings.warn(\n",
            "/usr/local/lib/python3.11/dist-packages/torchvision/models/_utils.py:223: UserWarning: Arguments other than a weight enum or `None` for 'weights' are deprecated since 0.13 and may be removed in the future. The current behavior is equivalent to passing `weights=ViT_B_16_Weights.IMAGENET1K_V1`. You can also use `weights=ViT_B_16_Weights.DEFAULT` to get the most up-to-date weights.\n",
            "  warnings.warn(msg)\n",
            "Downloading: \"https://download.pytorch.org/models/vit_b_16-c867db91.pth\" to /root/.cache/torch/hub/checkpoints/vit_b_16-c867db91.pth\n",
            "100%|██████████| 330M/330M [00:01<00:00, 189MB/s]\n"
          ]
        },
        {
          "output_type": "execute_result",
          "data": {
            "text/plain": [
              "torch.Size([8, 4])"
            ]
          },
          "metadata": {},
          "execution_count": 52
        }
      ]
    },
    {
      "cell_type": "code",
      "source": [
        "base_model_vit_b_16"
      ],
      "metadata": {
        "colab": {
          "base_uri": "https://localhost:8080/"
        },
        "outputId": "e1cad686-7ff5-454d-88bc-2ce4fb0eb52c",
        "id": "NXwDYtx0IMPu"
      },
      "execution_count": null,
      "outputs": [
        {
          "output_type": "execute_result",
          "data": {
            "text/plain": [
              "VisionTransformer(\n",
              "  (conv_proj): Conv2d(3, 768, kernel_size=(16, 16), stride=(16, 16))\n",
              "  (encoder): Encoder(\n",
              "    (dropout): Dropout(p=0.0, inplace=False)\n",
              "    (layers): Sequential(\n",
              "      (encoder_layer_0): EncoderBlock(\n",
              "        (ln_1): LayerNorm((768,), eps=1e-06, elementwise_affine=True)\n",
              "        (self_attention): MultiheadAttention(\n",
              "          (out_proj): NonDynamicallyQuantizableLinear(in_features=768, out_features=768, bias=True)\n",
              "        )\n",
              "        (dropout): Dropout(p=0.0, inplace=False)\n",
              "        (ln_2): LayerNorm((768,), eps=1e-06, elementwise_affine=True)\n",
              "        (mlp): MLPBlock(\n",
              "          (0): Linear(in_features=768, out_features=3072, bias=True)\n",
              "          (1): GELU(approximate='none')\n",
              "          (2): Dropout(p=0.0, inplace=False)\n",
              "          (3): Linear(in_features=3072, out_features=768, bias=True)\n",
              "          (4): Dropout(p=0.0, inplace=False)\n",
              "        )\n",
              "      )\n",
              "      (encoder_layer_1): EncoderBlock(\n",
              "        (ln_1): LayerNorm((768,), eps=1e-06, elementwise_affine=True)\n",
              "        (self_attention): MultiheadAttention(\n",
              "          (out_proj): NonDynamicallyQuantizableLinear(in_features=768, out_features=768, bias=True)\n",
              "        )\n",
              "        (dropout): Dropout(p=0.0, inplace=False)\n",
              "        (ln_2): LayerNorm((768,), eps=1e-06, elementwise_affine=True)\n",
              "        (mlp): MLPBlock(\n",
              "          (0): Linear(in_features=768, out_features=3072, bias=True)\n",
              "          (1): GELU(approximate='none')\n",
              "          (2): Dropout(p=0.0, inplace=False)\n",
              "          (3): Linear(in_features=3072, out_features=768, bias=True)\n",
              "          (4): Dropout(p=0.0, inplace=False)\n",
              "        )\n",
              "      )\n",
              "      (encoder_layer_2): EncoderBlock(\n",
              "        (ln_1): LayerNorm((768,), eps=1e-06, elementwise_affine=True)\n",
              "        (self_attention): MultiheadAttention(\n",
              "          (out_proj): NonDynamicallyQuantizableLinear(in_features=768, out_features=768, bias=True)\n",
              "        )\n",
              "        (dropout): Dropout(p=0.0, inplace=False)\n",
              "        (ln_2): LayerNorm((768,), eps=1e-06, elementwise_affine=True)\n",
              "        (mlp): MLPBlock(\n",
              "          (0): Linear(in_features=768, out_features=3072, bias=True)\n",
              "          (1): GELU(approximate='none')\n",
              "          (2): Dropout(p=0.0, inplace=False)\n",
              "          (3): Linear(in_features=3072, out_features=768, bias=True)\n",
              "          (4): Dropout(p=0.0, inplace=False)\n",
              "        )\n",
              "      )\n",
              "      (encoder_layer_3): EncoderBlock(\n",
              "        (ln_1): LayerNorm((768,), eps=1e-06, elementwise_affine=True)\n",
              "        (self_attention): MultiheadAttention(\n",
              "          (out_proj): NonDynamicallyQuantizableLinear(in_features=768, out_features=768, bias=True)\n",
              "        )\n",
              "        (dropout): Dropout(p=0.0, inplace=False)\n",
              "        (ln_2): LayerNorm((768,), eps=1e-06, elementwise_affine=True)\n",
              "        (mlp): MLPBlock(\n",
              "          (0): Linear(in_features=768, out_features=3072, bias=True)\n",
              "          (1): GELU(approximate='none')\n",
              "          (2): Dropout(p=0.0, inplace=False)\n",
              "          (3): Linear(in_features=3072, out_features=768, bias=True)\n",
              "          (4): Dropout(p=0.0, inplace=False)\n",
              "        )\n",
              "      )\n",
              "      (encoder_layer_4): EncoderBlock(\n",
              "        (ln_1): LayerNorm((768,), eps=1e-06, elementwise_affine=True)\n",
              "        (self_attention): MultiheadAttention(\n",
              "          (out_proj): NonDynamicallyQuantizableLinear(in_features=768, out_features=768, bias=True)\n",
              "        )\n",
              "        (dropout): Dropout(p=0.0, inplace=False)\n",
              "        (ln_2): LayerNorm((768,), eps=1e-06, elementwise_affine=True)\n",
              "        (mlp): MLPBlock(\n",
              "          (0): Linear(in_features=768, out_features=3072, bias=True)\n",
              "          (1): GELU(approximate='none')\n",
              "          (2): Dropout(p=0.0, inplace=False)\n",
              "          (3): Linear(in_features=3072, out_features=768, bias=True)\n",
              "          (4): Dropout(p=0.0, inplace=False)\n",
              "        )\n",
              "      )\n",
              "      (encoder_layer_5): EncoderBlock(\n",
              "        (ln_1): LayerNorm((768,), eps=1e-06, elementwise_affine=True)\n",
              "        (self_attention): MultiheadAttention(\n",
              "          (out_proj): NonDynamicallyQuantizableLinear(in_features=768, out_features=768, bias=True)\n",
              "        )\n",
              "        (dropout): Dropout(p=0.0, inplace=False)\n",
              "        (ln_2): LayerNorm((768,), eps=1e-06, elementwise_affine=True)\n",
              "        (mlp): MLPBlock(\n",
              "          (0): Linear(in_features=768, out_features=3072, bias=True)\n",
              "          (1): GELU(approximate='none')\n",
              "          (2): Dropout(p=0.0, inplace=False)\n",
              "          (3): Linear(in_features=3072, out_features=768, bias=True)\n",
              "          (4): Dropout(p=0.0, inplace=False)\n",
              "        )\n",
              "      )\n",
              "      (encoder_layer_6): EncoderBlock(\n",
              "        (ln_1): LayerNorm((768,), eps=1e-06, elementwise_affine=True)\n",
              "        (self_attention): MultiheadAttention(\n",
              "          (out_proj): NonDynamicallyQuantizableLinear(in_features=768, out_features=768, bias=True)\n",
              "        )\n",
              "        (dropout): Dropout(p=0.0, inplace=False)\n",
              "        (ln_2): LayerNorm((768,), eps=1e-06, elementwise_affine=True)\n",
              "        (mlp): MLPBlock(\n",
              "          (0): Linear(in_features=768, out_features=3072, bias=True)\n",
              "          (1): GELU(approximate='none')\n",
              "          (2): Dropout(p=0.0, inplace=False)\n",
              "          (3): Linear(in_features=3072, out_features=768, bias=True)\n",
              "          (4): Dropout(p=0.0, inplace=False)\n",
              "        )\n",
              "      )\n",
              "      (encoder_layer_7): EncoderBlock(\n",
              "        (ln_1): LayerNorm((768,), eps=1e-06, elementwise_affine=True)\n",
              "        (self_attention): MultiheadAttention(\n",
              "          (out_proj): NonDynamicallyQuantizableLinear(in_features=768, out_features=768, bias=True)\n",
              "        )\n",
              "        (dropout): Dropout(p=0.0, inplace=False)\n",
              "        (ln_2): LayerNorm((768,), eps=1e-06, elementwise_affine=True)\n",
              "        (mlp): MLPBlock(\n",
              "          (0): Linear(in_features=768, out_features=3072, bias=True)\n",
              "          (1): GELU(approximate='none')\n",
              "          (2): Dropout(p=0.0, inplace=False)\n",
              "          (3): Linear(in_features=3072, out_features=768, bias=True)\n",
              "          (4): Dropout(p=0.0, inplace=False)\n",
              "        )\n",
              "      )\n",
              "      (encoder_layer_8): EncoderBlock(\n",
              "        (ln_1): LayerNorm((768,), eps=1e-06, elementwise_affine=True)\n",
              "        (self_attention): MultiheadAttention(\n",
              "          (out_proj): NonDynamicallyQuantizableLinear(in_features=768, out_features=768, bias=True)\n",
              "        )\n",
              "        (dropout): Dropout(p=0.0, inplace=False)\n",
              "        (ln_2): LayerNorm((768,), eps=1e-06, elementwise_affine=True)\n",
              "        (mlp): MLPBlock(\n",
              "          (0): Linear(in_features=768, out_features=3072, bias=True)\n",
              "          (1): GELU(approximate='none')\n",
              "          (2): Dropout(p=0.0, inplace=False)\n",
              "          (3): Linear(in_features=3072, out_features=768, bias=True)\n",
              "          (4): Dropout(p=0.0, inplace=False)\n",
              "        )\n",
              "      )\n",
              "      (encoder_layer_9): EncoderBlock(\n",
              "        (ln_1): LayerNorm((768,), eps=1e-06, elementwise_affine=True)\n",
              "        (self_attention): MultiheadAttention(\n",
              "          (out_proj): NonDynamicallyQuantizableLinear(in_features=768, out_features=768, bias=True)\n",
              "        )\n",
              "        (dropout): Dropout(p=0.0, inplace=False)\n",
              "        (ln_2): LayerNorm((768,), eps=1e-06, elementwise_affine=True)\n",
              "        (mlp): MLPBlock(\n",
              "          (0): Linear(in_features=768, out_features=3072, bias=True)\n",
              "          (1): GELU(approximate='none')\n",
              "          (2): Dropout(p=0.0, inplace=False)\n",
              "          (3): Linear(in_features=3072, out_features=768, bias=True)\n",
              "          (4): Dropout(p=0.0, inplace=False)\n",
              "        )\n",
              "      )\n",
              "      (encoder_layer_10): EncoderBlock(\n",
              "        (ln_1): LayerNorm((768,), eps=1e-06, elementwise_affine=True)\n",
              "        (self_attention): MultiheadAttention(\n",
              "          (out_proj): NonDynamicallyQuantizableLinear(in_features=768, out_features=768, bias=True)\n",
              "        )\n",
              "        (dropout): Dropout(p=0.0, inplace=False)\n",
              "        (ln_2): LayerNorm((768,), eps=1e-06, elementwise_affine=True)\n",
              "        (mlp): MLPBlock(\n",
              "          (0): Linear(in_features=768, out_features=3072, bias=True)\n",
              "          (1): GELU(approximate='none')\n",
              "          (2): Dropout(p=0.0, inplace=False)\n",
              "          (3): Linear(in_features=3072, out_features=768, bias=True)\n",
              "          (4): Dropout(p=0.0, inplace=False)\n",
              "        )\n",
              "      )\n",
              "      (encoder_layer_11): EncoderBlock(\n",
              "        (ln_1): LayerNorm((768,), eps=1e-06, elementwise_affine=True)\n",
              "        (self_attention): MultiheadAttention(\n",
              "          (out_proj): NonDynamicallyQuantizableLinear(in_features=768, out_features=768, bias=True)\n",
              "        )\n",
              "        (dropout): Dropout(p=0.0, inplace=False)\n",
              "        (ln_2): LayerNorm((768,), eps=1e-06, elementwise_affine=True)\n",
              "        (mlp): MLPBlock(\n",
              "          (0): Linear(in_features=768, out_features=3072, bias=True)\n",
              "          (1): GELU(approximate='none')\n",
              "          (2): Dropout(p=0.0, inplace=False)\n",
              "          (3): Linear(in_features=3072, out_features=768, bias=True)\n",
              "          (4): Dropout(p=0.0, inplace=False)\n",
              "        )\n",
              "      )\n",
              "    )\n",
              "    (ln): LayerNorm((768,), eps=1e-06, elementwise_affine=True)\n",
              "  )\n",
              "  (heads): Sequential(\n",
              "    (head): Linear(in_features=768, out_features=4, bias=True)\n",
              "  )\n",
              ")"
            ]
          },
          "metadata": {},
          "execution_count": 53
        }
      ]
    },
    {
      "cell_type": "markdown",
      "source": [
        "## 分配损失函数和优化器"
      ],
      "metadata": {
        "id": "UurM4rieIMPu"
      }
    },
    {
      "cell_type": "code",
      "source": [
        "loss_fn = nn.CrossEntropyLoss()\n",
        "optimizer = torch.optim.SGD(base_model_vit_b_16.parameters(), lr=1e-3)"
      ],
      "metadata": {
        "id": "FYnJv-oZIMPu"
      },
      "execution_count": null,
      "outputs": []
    },
    {
      "cell_type": "markdown",
      "source": [
        "## 训练和评估"
      ],
      "metadata": {
        "id": "vF9awMxeIMPu"
      }
    },
    {
      "cell_type": "code",
      "source": [
        "epochs = 2\n",
        "train_loss_list = []\n",
        "train_acc_list = []\n",
        "test_loss_list = []\n",
        "test_acc_list = []\n",
        "for t in range(epochs):\n",
        "    print(f\"Epoch {t+1}\\n-------------------------------\")\n",
        "    train(train_dataloader, base_model_vit_b_16, loss_fn, optimizer)\n",
        "\n",
        "    train_loss, train_correct = test(train_dataloader, base_model_vit_b_16, loss_fn)\n",
        "    test_loss, test_correct = test(test_dataloader, base_model_vit_b_16, loss_fn)\n",
        "    train_loss_list.append(train_loss)\n",
        "    train_acc_list.append(train_correct)\n",
        "    test_loss_list.append(test_loss)\n",
        "    test_acc_list.append(test_correct)\n",
        "print(\"Done!\")"
      ],
      "metadata": {
        "colab": {
          "base_uri": "https://localhost:8080/"
        },
        "outputId": "a219f85e-cd3f-4e16-9bfd-2b44b71c9356",
        "id": "qoaX60loIMPv"
      },
      "execution_count": null,
      "outputs": [
        {
          "output_type": "stream",
          "name": "stdout",
          "text": [
            "Epoch 1\n",
            "-------------------------------\n",
            "loss: 1.428315  [    0/  160]\n",
            "Test Error: \n",
            " Accuracy: 23.1%, Avg loss: 1.392015 \n",
            "\n",
            "Test Error: \n",
            " Accuracy: 35.0%, Avg loss: 1.372097 \n",
            "\n",
            "Epoch 2\n",
            "-------------------------------\n",
            "loss: 1.388943  [    0/  160]\n",
            "Test Error: \n",
            " Accuracy: 25.6%, Avg loss: 1.391715 \n",
            "\n",
            "Test Error: \n",
            " Accuracy: 27.5%, Avg loss: 1.357603 \n",
            "\n",
            "Done!\n"
          ]
        }
      ]
    },
    {
      "cell_type": "code",
      "source": [],
      "metadata": {
        "id": "ZDeGMQWIIMPv"
      },
      "execution_count": null,
      "outputs": []
    },
    {
      "cell_type": "markdown",
      "metadata": {
        "id": "EHp1SLbLIMPv"
      },
      "source": [
        "## 可视化训练过程"
      ]
    },
    {
      "cell_type": "code",
      "execution_count": null,
      "metadata": {
        "colab": {
          "base_uri": "https://localhost:8080/",
          "height": 699
        },
        "outputId": "59491d25-d850-4cd8-d6e6-faf9216ac834",
        "id": "5C-Uh7KnIMPv"
      },
      "outputs": [
        {
          "output_type": "display_data",
          "data": {
            "text/plain": [
              "<Figure size 800x800 with 2 Axes>"
            ],
            "image/png": "[encoded data removed]"
          },
          "metadata": {}
        }
      ],
      "source": [
        "# train_loss_array,train_acc_array,val_loss_array,val_acc_array\n",
        "acc = train_acc_list\n",
        "val_acc = test_acc_list\n",
        "\n",
        "loss = train_loss_list\n",
        "val_loss = test_loss_list\n",
        "epochs_range = range(epochs)\n",
        "\n",
        "plt.figure(figsize=(8, 8))\n",
        "plt.subplot(1, 2, 1)\n",
        "plt.plot(epochs_range, acc, label='Training Accuracy')\n",
        "plt.plot(epochs_range, val_acc, label='Validation Accuracy')\n",
        "plt.legend(loc='lower right')\n",
        "plt.title('Training and Validation Accuracy')\n",
        "\n",
        "plt.subplot(1, 2, 2)\n",
        "plt.plot(epochs_range, loss, label='Training Loss')\n",
        "plt.plot(epochs_range, val_loss, label='Validation Loss')\n",
        "plt.legend(loc='upper right')\n",
        "plt.title('Training and Validation Loss')\n",
        "plt.show()"
      ]
    },
    {
      "cell_type": "markdown",
      "source": [
        "## 模型验证集预测"
      ],
      "metadata": {
        "id": "7xjNZ1x-IMPw"
      }
    },
    {
      "cell_type": "code",
      "source": [
        "predict_list = []\n",
        "label_list = []\n",
        "predict_pro_list = []\n",
        "m_softmax = nn.Softmax(dim=1)\n",
        "for (img_rgb, y) in test_dataloader:\n",
        "    img_rgb = img_rgb.to(device)\n",
        "    y = y.to(device)\n",
        "\n",
        "    predict_score = base_model_vit_b_16(img_rgb)\n",
        "    predict_pro = m_softmax(predict_score)\n",
        "\n",
        "    predict_label = np.argmax(predict_score.detach().cpu().numpy(),axis=1)\n",
        "\n",
        "    predict_pro_list.append(predict_pro.detach().cpu().numpy())\n",
        "    predict_list.append(predict_label)\n",
        "    label_list.append(y.detach().cpu().numpy())\n",
        "\n",
        "predict_pro_array = np.vstack(predict_pro_list)[:,1]\n",
        "predict_array = np.hstack(predict_list)\n",
        "label_array = np.hstack(label_list)\n",
        "predict_pro_array[:5],predict_array[:5],label_array[:5]"
      ],
      "metadata": {
        "colab": {
          "base_uri": "https://localhost:8080/"
        },
        "outputId": "923c9317-25e4-4a31-e33e-0bb5a729442f",
        "id": "PiJVn9YeIMPw"
      },
      "execution_count": null,
      "outputs": [
        {
          "output_type": "execute_result",
          "data": {
            "text/plain": [
              "(array([0.2325241 , 0.21139771, 0.2316667 , 0.24122247, 0.21720126],\n",
              "       dtype=float32),\n",
              " array([2, 2, 2, 2, 2]),\n",
              " array([3, 2, 3, 1, 3]))"
            ]
          },
          "metadata": {},
          "execution_count": 57
        }
      ]
    },
    {
      "cell_type": "markdown",
      "source": [
        "### 分类报告"
      ],
      "metadata": {
        "id": "oFF95QxjIMPw"
      }
    },
    {
      "cell_type": "code",
      "source": [
        "from sklearn.metrics import classification_report\n",
        "print(classification_report(label_array, predict_array,digits=3))"
      ],
      "metadata": {
        "colab": {
          "base_uri": "https://localhost:8080/"
        },
        "outputId": "e797eecb-0956-474a-c661-9819373c419c",
        "id": "aYwyv9-zIMPw"
      },
      "execution_count": null,
      "outputs": [
        {
          "output_type": "stream",
          "name": "stdout",
          "text": [
            "              precision    recall  f1-score   support\n",
            "\n",
            "           0      0.000     0.000     0.000         6\n",
            "           1      0.000     0.000     0.000        10\n",
            "           2      0.263     1.000     0.417        10\n",
            "           3      0.500     0.071     0.125        14\n",
            "\n",
            "    accuracy                          0.275        40\n",
            "   macro avg      0.191     0.268     0.135        40\n",
            "weighted avg      0.241     0.275     0.148        40\n",
            "\n"
          ]
        },
        {
          "output_type": "stream",
          "name": "stderr",
          "text": [
            "/usr/local/lib/python3.11/dist-packages/sklearn/metrics/_classification.py:1565: UndefinedMetricWarning: Precision is ill-defined and being set to 0.0 in labels with no predicted samples. Use `zero_division` parameter to control this behavior.\n",
            "  _warn_prf(average, modifier, f\"{metric.capitalize()} is\", len(result))\n",
            "/usr/local/lib/python3.11/dist-packages/sklearn/metrics/_classification.py:1565: UndefinedMetricWarning: Precision is ill-defined and being set to 0.0 in labels with no predicted samples. Use `zero_division` parameter to control this behavior.\n",
            "  _warn_prf(average, modifier, f\"{metric.capitalize()} is\", len(result))\n",
            "/usr/local/lib/python3.11/dist-packages/sklearn/metrics/_classification.py:1565: UndefinedMetricWarning: Precision is ill-defined and being set to 0.0 in labels with no predicted samples. Use `zero_division` parameter to control this behavior.\n",
            "  _warn_prf(average, modifier, f\"{metric.capitalize()} is\", len(result))\n"
          ]
        }
      ]
    },
    {
      "cell_type": "code",
      "source": [],
      "metadata": {
        "id": "qXS3ZbJhIMPw"
      },
      "execution_count": null,
      "outputs": []
    },
    {
      "cell_type": "markdown",
      "source": [
        "### 混淆矩阵"
      ],
      "metadata": {
        "id": "egOjiVpyIMPw"
      }
    },
    {
      "cell_type": "code",
      "source": [],
      "metadata": {
        "id": "QfwPhozAIMPw"
      },
      "execution_count": null,
      "outputs": []
    },
    {
      "cell_type": "code",
      "source": [
        "from sklearn.metrics import confusion_matrix\n",
        "cnf_matrix = confusion_matrix(label_array, predict_array)\n",
        "cnf_matrix"
      ],
      "metadata": {
        "colab": {
          "base_uri": "https://localhost:8080/"
        },
        "outputId": "7b25cec6-55e3-4342-ba0d-babd815d2a6b",
        "id": "uWctnTZ0IMPx"
      },
      "execution_count": null,
      "outputs": [
        {
          "output_type": "execute_result",
          "data": {
            "text/plain": [
              "array([[ 0,  0,  6,  0],\n",
              "       [ 0,  0,  9,  1],\n",
              "       [ 0,  0, 10,  0],\n",
              "       [ 0,  0, 13,  1]])"
            ]
          },
          "metadata": {},
          "execution_count": 59
        }
      ]
    },
    {
      "cell_type": "code",
      "source": [],
      "metadata": {
        "id": "VgKsUegeIMPx"
      },
      "execution_count": null,
      "outputs": []
    },
    {
      "cell_type": "code",
      "source": [
        "sns.heatmap(cnf_matrix, annot=True, fmt='g')"
      ],
      "metadata": {
        "colab": {
          "base_uri": "https://localhost:8080/",
          "height": 447
        },
        "outputId": "6c9e2a9f-547a-42f2-a84e-66545c4a0c87",
        "id": "mTx2CXOnIMPx"
      },
      "execution_count": null,
      "outputs": [
        {
          "output_type": "execute_result",
          "data": {
            "text/plain": [
              "<Axes: >"
            ]
          },
          "metadata": {},
          "execution_count": 60
        },
        {
          "output_type": "display_data",
          "data": {
            "text/plain": [
              "<Figure size 640x480 with 2 Axes>"
            ],
            "image/png": "[encoded data removed]"
          },
          "metadata": {}
        }
      ]
    },
    {
      "cell_type": "code",
      "source": [
        "cm_normalized = cnf_matrix.astype('float') / cnf_matrix.sum(axis=1)[:, np.newaxis]\n",
        "sns.heatmap(cm_normalized, annot=True, fmt='.3f')"
      ],
      "metadata": {
        "colab": {
          "base_uri": "https://localhost:8080/",
          "height": 452
        },
        "outputId": "4303329d-65e1-4406-dd9f-454455a5d231",
        "id": "wb9aFNAwIMPx"
      },
      "execution_count": null,
      "outputs": [
        {
          "output_type": "execute_result",
          "data": {
            "text/plain": [
              "<Axes: >"
            ]
          },
          "metadata": {},
          "execution_count": 61
        },
        {
          "output_type": "display_data",
          "data": {
            "text/plain": [
              "<Figure size 640x480 with 2 Axes>"
            ],
            "image/png": "[encoded data removed]"
          },
          "metadata": {}
        }
      ]
    },
    {
      "cell_type": "code",
      "source": [],
      "metadata": {
        "id": "PD8XOZpKIMPx"
      },
      "execution_count": null,
      "outputs": []
    },
    {
      "cell_type": "code",
      "source": [],
      "metadata": {
        "id": "ae77IQ62IMPx"
      },
      "execution_count": null,
      "outputs": []
    },
    {
      "cell_type": "code",
      "source": [],
      "metadata": {
        "id": "4oYOho6KIMPx"
      },
      "execution_count": null,
      "outputs": []
    },
    {
      "cell_type": "code",
      "source": [],
      "metadata": {
        "id": "ViZozhMbc3VM"
      },
      "execution_count": null,
      "outputs": []
    },
    {
      "cell_type": "code",
      "source": [],
      "metadata": {
        "id": "HyMj0UfO9Hqr"
      },
      "execution_count": null,
      "outputs": []
    }
  ]
}